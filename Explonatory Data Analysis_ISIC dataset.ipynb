{
 "cells": [
  {
   "cell_type": "code",
   "execution_count": 48,
   "metadata": {},
   "outputs": [],
   "source": [
    "import pandas as pd\n",
    "import matplotlib.pyplot as plt\n",
    "import seaborn as sns\n",
    "import numpy as np"
   ]
  },
  {
   "cell_type": "code",
   "execution_count": 49,
   "metadata": {},
   "outputs": [],
   "source": [
    "df = pd.read_csv('metadata.csv')"
   ]
  },
  {
   "cell_type": "code",
   "execution_count": 50,
   "metadata": {},
   "outputs": [
    {
     "data": {
      "text/plain": [
       "Index(['_id', 'name', 'meta.clinical.age_approx',\n",
       "       'meta.clinical.anatom_site_general', 'meta.clinical.benign_malignant',\n",
       "       'meta.clinical.clin_size_long_diam_mm', 'meta.clinical.diagnosis',\n",
       "       'meta.clinical.diagnosis_confirm_type', 'meta.clinical.family_hx_mm',\n",
       "       'meta.clinical.lesion_id', 'meta.clinical.mel_class',\n",
       "       'meta.clinical.mel_mitotic_index', 'meta.clinical.mel_thick_mm',\n",
       "       'meta.clinical.mel_type', 'meta.clinical.mel_ulcer',\n",
       "       'meta.clinical.melanocytic', 'meta.clinical.nevus_type',\n",
       "       'meta.clinical.patient_id', 'meta.clinical.personal_hx_mm',\n",
       "       'meta.clinical.sex', 'meta.acquisition.acquisition_day',\n",
       "       'meta.acquisition.blurry', 'meta.acquisition.color_tint',\n",
       "       'meta.acquisition.dermoscopic_type', 'meta.acquisition.hairy',\n",
       "       'meta.acquisition.image_type', 'meta.acquisition.marker_pen',\n",
       "       'meta.acquisition.pixelsX', 'meta.acquisition.pixelsY'],\n",
       "      dtype='object')"
      ]
     },
     "execution_count": 50,
     "metadata": {},
     "output_type": "execute_result"
    }
   ],
   "source": [
    "df.columns"
   ]
  },
  {
   "cell_type": "code",
   "execution_count": 51,
   "metadata": {},
   "outputs": [
    {
     "data": {
      "text/plain": [
       "(21658, 29)"
      ]
     },
     "execution_count": 51,
     "metadata": {},
     "output_type": "execute_result"
    }
   ],
   "source": [
    "df.shape"
   ]
  },
  {
   "cell_type": "code",
   "execution_count": 52,
   "metadata": {},
   "outputs": [
    {
     "data": {
      "text/plain": [
       "_id                                     21658\n",
       "name                                    21658\n",
       "meta.clinical.age_approx                21263\n",
       "meta.clinical.anatom_site_general       10112\n",
       "meta.clinical.benign_malignant          21658\n",
       "meta.clinical.clin_size_long_diam_mm     1519\n",
       "meta.clinical.diagnosis                 21429\n",
       "meta.clinical.diagnosis_confirm_type    21259\n",
       "meta.clinical.family_hx_mm               1497\n",
       "meta.clinical.lesion_id                     0\n",
       "meta.clinical.mel_class                    37\n",
       "meta.clinical.mel_mitotic_index             0\n",
       "meta.clinical.mel_thick_mm                 37\n",
       "meta.clinical.mel_type                      0\n",
       "meta.clinical.mel_ulcer                     0\n",
       "meta.clinical.melanocytic               21429\n",
       "meta.clinical.nevus_type                  580\n",
       "meta.clinical.patient_id                    0\n",
       "meta.clinical.personal_hx_mm             1517\n",
       "meta.clinical.sex                       21256\n",
       "meta.acquisition.acquisition_day            0\n",
       "meta.acquisition.blurry                     0\n",
       "meta.acquisition.color_tint                 0\n",
       "meta.acquisition.dermoscopic_type        2099\n",
       "meta.acquisition.hairy                      0\n",
       "meta.acquisition.image_type             21658\n",
       "meta.acquisition.marker_pen                 0\n",
       "meta.acquisition.pixelsX                21658\n",
       "meta.acquisition.pixelsY                21658\n",
       "dtype: int64"
      ]
     },
     "execution_count": 52,
     "metadata": {},
     "output_type": "execute_result"
    }
   ],
   "source": [
    "df.count()"
   ]
  },
  {
   "cell_type": "code",
   "execution_count": 53,
   "metadata": {},
   "outputs": [],
   "source": [
    "# Some columns don't contain enouth data, so they will be excluded from further analysis\n",
    "df = df[['meta.clinical.age_approx', 'meta.clinical.benign_malignant', 'meta.clinical.diagnosis', \n",
    "         'meta.clinical.sex', 'meta.acquisition.image_type']]"
   ]
  },
  {
   "cell_type": "code",
   "execution_count": 54,
   "metadata": {
    "scrolled": true
   },
   "outputs": [],
   "source": [
    "df = df.rename(columns={'meta.clinical.age_approx': 'Age',\n",
    "                   'meta.clinical.benign_malignant': \"benign/malignant\", \n",
    "                   'meta.clinical.diagnosis': 'Diagnosis', \n",
    "                   'meta.clinical.sex': 'Sex',\n",
    "                   'meta.acquisition.image_type': 'Image_type'})"
   ]
  },
  {
   "cell_type": "code",
   "execution_count": 55,
   "metadata": {},
   "outputs": [
    {
     "data": {
      "text/plain": [
       "Text(0.5, 1.0, 'Age distribution')"
      ]
     },
     "execution_count": 55,
     "metadata": {},
     "output_type": "execute_result"
    },
    {
     "data": {
      "image/png": "[encoded data removed]",
      "text/plain": [
       "<Figure size 432x288 with 1 Axes>"
      ]
     },
     "metadata": {
      "needs_background": "light"
     },
     "output_type": "display_data"
    }
   ],
   "source": [
    "sns.distplot(df['Age'])\n",
    "plt.title('Age distribution')"
   ]
  },
  {
   "cell_type": "code",
   "execution_count": 56,
   "metadata": {},
   "outputs": [
    {
     "data": {
      "text/plain": [
       "Text(0.5, 1.0, 'Age distribution (malignant)')"
      ]
     },
     "execution_count": 56,
     "metadata": {},
     "output_type": "execute_result"
    },
    {
     "data": {
      "image/png": "[encoded data removed]",
      "text/plain": [
       "<Figure size 432x288 with 1 Axes>"
      ]
     },
     "metadata": {
      "needs_background": "light"
     },
     "output_type": "display_data"
    }
   ],
   "source": [
    "sns.distplot(df['Age'][df['benign/malignant'] !='benign'])\n",
    "plt.title('Age distribution (malignant)')"
   ]
  },
  {
   "cell_type": "code",
   "execution_count": 57,
   "metadata": {
    "scrolled": true
   },
   "outputs": [
    {
     "data": {
      "text/plain": [
       "Text(0.5, 1.0, 'Age distribution (benign)')"
      ]
     },
     "execution_count": 57,
     "metadata": {},
     "output_type": "execute_result"
    },
    {
     "data": {
      "image/png": "[encoded data removed]",
      "text/plain": [
       "<Figure size 432x288 with 1 Axes>"
      ]
     },
     "metadata": {
      "needs_background": "light"
     },
     "output_type": "display_data"
    }
   ],
   "source": [
    "sns.distplot(df['Age'][df['benign/malignant'] =='benign'])\n",
    "plt.title('Age distribution (benign)')"
   ]
  },
  {
   "cell_type": "code",
   "execution_count": 58,
   "metadata": {},
   "outputs": [
    {
     "data": {
      "text/plain": [
       "Age\n",
       "0.0       33\n",
       "5.0       87\n",
       "10.0    1597\n",
       "15.0    7862\n",
       "20.0     256\n",
       "25.0     454\n",
       "30.0     716\n",
       "35.0     964\n",
       "40.0    1200\n",
       "45.0    1534\n",
       "50.0    1385\n",
       "55.0    1145\n",
       "60.0     964\n",
       "65.0     890\n",
       "70.0     763\n",
       "75.0     580\n",
       "80.0     378\n",
       "85.0     455\n",
       "Name: Age, dtype: int64"
      ]
     },
     "execution_count": 58,
     "metadata": {},
     "output_type": "execute_result"
    }
   ],
   "source": [
    "# Number of patients by age group\n",
    "df['Age'].groupby(df[\"Age\"]).count()"
   ]
  },
  {
   "cell_type": "code",
   "execution_count": 59,
   "metadata": {},
   "outputs": [
    {
     "data": {
      "text/plain": [
       "31.51682742713357"
      ]
     },
     "execution_count": 59,
     "metadata": {},
     "output_type": "execute_result"
    }
   ],
   "source": [
    "df['Age'][df['benign/malignant'] =='benign'].mean()"
   ]
  },
  {
   "cell_type": "code",
   "execution_count": 60,
   "metadata": {},
   "outputs": [
    {
     "data": {
      "text/plain": [
       "15.0"
      ]
     },
     "execution_count": 60,
     "metadata": {},
     "output_type": "execute_result"
    }
   ],
   "source": [
    "df['Age'][df['benign/malignant'] =='benign'].median()"
   ]
  },
  {
   "cell_type": "code",
   "execution_count": 61,
   "metadata": {},
   "outputs": [
    {
     "data": {
      "text/plain": [
       "61.99359853680841"
      ]
     },
     "execution_count": 61,
     "metadata": {},
     "output_type": "execute_result"
    }
   ],
   "source": [
    "df['Age'][df['benign/malignant'] !='benign'].mean()"
   ]
  },
  {
   "cell_type": "code",
   "execution_count": 62,
   "metadata": {},
   "outputs": [
    {
     "data": {
      "text/plain": [
       "65.0"
      ]
     },
     "execution_count": 62,
     "metadata": {},
     "output_type": "execute_result"
    }
   ],
   "source": [
    "df['Age'][df['benign/malignant'] !='benign'].median()"
   ]
  },
  {
   "cell_type": "code",
   "execution_count": 79,
   "metadata": {},
   "outputs": [
    {
     "data": {
      "text/html": [
       "<div>\n",
       "<style scoped>\n",
       "    .dataframe tbody tr th:only-of-type {\n",
       "        vertical-align: middle;\n",
       "    }\n",
       "\n",
       "    .dataframe tbody tr th {\n",
       "        vertical-align: top;\n",
       "    }\n",
       "\n",
       "    .dataframe thead th {\n",
       "        text-align: right;\n",
       "    }\n",
       "</style>\n",
       "<table border=\"1\" class=\"dataframe\">\n",
       "  <thead>\n",
       "    <tr style=\"text-align: right;\">\n",
       "      <th></th>\n",
       "      <th></th>\n",
       "      <th>Age</th>\n",
       "      <th>Sex</th>\n",
       "      <th>Image_type</th>\n",
       "    </tr>\n",
       "    <tr>\n",
       "      <th>Diagnosis</th>\n",
       "      <th>benign/malignant</th>\n",
       "      <th></th>\n",
       "      <th></th>\n",
       "      <th></th>\n",
       "    </tr>\n",
       "  </thead>\n",
       "  <tbody>\n",
       "    <tr>\n",
       "      <th>actinic keratosis</th>\n",
       "      <th>benign</th>\n",
       "      <td>2</td>\n",
       "      <td>2</td>\n",
       "      <td>2</td>\n",
       "    </tr>\n",
       "    <tr>\n",
       "      <th>angiofibroma or fibrous papule</th>\n",
       "      <th>benign</th>\n",
       "      <td>1</td>\n",
       "      <td>1</td>\n",
       "      <td>1</td>\n",
       "    </tr>\n",
       "    <tr>\n",
       "      <th>angioma</th>\n",
       "      <th>benign</th>\n",
       "      <td>15</td>\n",
       "      <td>14</td>\n",
       "      <td>15</td>\n",
       "    </tr>\n",
       "    <tr>\n",
       "      <th>atypical melanocytic proliferation</th>\n",
       "      <th>benign</th>\n",
       "      <td>2</td>\n",
       "      <td>2</td>\n",
       "      <td>2</td>\n",
       "    </tr>\n",
       "    <tr>\n",
       "      <th rowspan=\"2\" valign=\"top\">basal cell carcinoma</th>\n",
       "      <th>benign</th>\n",
       "      <td>1</td>\n",
       "      <td>1</td>\n",
       "      <td>1</td>\n",
       "    </tr>\n",
       "    <tr>\n",
       "      <th>malignant</th>\n",
       "      <td>67</td>\n",
       "      <td>67</td>\n",
       "      <td>67</td>\n",
       "    </tr>\n",
       "    <tr>\n",
       "      <th>dermatofibroma</th>\n",
       "      <th>benign</th>\n",
       "      <td>7</td>\n",
       "      <td>5</td>\n",
       "      <td>7</td>\n",
       "    </tr>\n",
       "    <tr>\n",
       "      <th>lentigo NOS</th>\n",
       "      <th>benign</th>\n",
       "      <td>71</td>\n",
       "      <td>71</td>\n",
       "      <td>71</td>\n",
       "    </tr>\n",
       "    <tr>\n",
       "      <th>lentigo simplex</th>\n",
       "      <th>benign</th>\n",
       "      <td>27</td>\n",
       "      <td>27</td>\n",
       "      <td>27</td>\n",
       "    </tr>\n",
       "    <tr>\n",
       "      <th>lichenoid keratosis</th>\n",
       "      <th>benign</th>\n",
       "      <td>1</td>\n",
       "      <td>1</td>\n",
       "      <td>1</td>\n",
       "    </tr>\n",
       "    <tr>\n",
       "      <th>melanoma</th>\n",
       "      <th>malignant</th>\n",
       "      <td>2071</td>\n",
       "      <td>2067</td>\n",
       "      <td>2169</td>\n",
       "    </tr>\n",
       "    <tr>\n",
       "      <th>nevus</th>\n",
       "      <th>benign</th>\n",
       "      <td>18267</td>\n",
       "      <td>18310</td>\n",
       "      <td>18558</td>\n",
       "    </tr>\n",
       "    <tr>\n",
       "      <th>other</th>\n",
       "      <th>benign</th>\n",
       "      <td>10</td>\n",
       "      <td>10</td>\n",
       "      <td>10</td>\n",
       "    </tr>\n",
       "    <tr>\n",
       "      <th>scar</th>\n",
       "      <th>benign</th>\n",
       "      <td>1</td>\n",
       "      <td>1</td>\n",
       "      <td>1</td>\n",
       "    </tr>\n",
       "    <tr>\n",
       "      <th rowspan=\"2\" valign=\"top\">seborrheic keratosis</th>\n",
       "      <th>benign</th>\n",
       "      <td>413</td>\n",
       "      <td>416</td>\n",
       "      <td>418</td>\n",
       "    </tr>\n",
       "    <tr>\n",
       "      <th>malignant</th>\n",
       "      <td>1</td>\n",
       "      <td>1</td>\n",
       "      <td>1</td>\n",
       "    </tr>\n",
       "    <tr>\n",
       "      <th>solar lentigo</th>\n",
       "      <th>benign</th>\n",
       "      <td>57</td>\n",
       "      <td>57</td>\n",
       "      <td>57</td>\n",
       "    </tr>\n",
       "    <tr>\n",
       "      <th>squamous cell carcinoma</th>\n",
       "      <th>malignant</th>\n",
       "      <td>21</td>\n",
       "      <td>21</td>\n",
       "      <td>21</td>\n",
       "    </tr>\n",
       "  </tbody>\n",
       "</table>\n",
       "</div>"
      ],
      "text/plain": [
       "                                                       Age    Sex  Image_type\n",
       "Diagnosis                          benign/malignant                          \n",
       "actinic keratosis                  benign                2      2           2\n",
       "angiofibroma or fibrous papule     benign                1      1           1\n",
       "angioma                            benign               15     14          15\n",
       "atypical melanocytic proliferation benign                2      2           2\n",
       "basal cell carcinoma               benign                1      1           1\n",
       "                                   malignant            67     67          67\n",
       "dermatofibroma                     benign                7      5           7\n",
       "lentigo NOS                        benign               71     71          71\n",
       "lentigo simplex                    benign               27     27          27\n",
       "lichenoid keratosis                benign                1      1           1\n",
       "melanoma                           malignant          2071   2067        2169\n",
       "nevus                              benign            18267  18310       18558\n",
       "other                              benign               10     10          10\n",
       "scar                               benign                1      1           1\n",
       "seborrheic keratosis               benign              413    416         418\n",
       "                                   malignant             1      1           1\n",
       "solar lentigo                      benign               57     57          57\n",
       "squamous cell carcinoma            malignant            21     21          21"
      ]
     },
     "execution_count": 79,
     "metadata": {},
     "output_type": "execute_result"
    }
   ],
   "source": [
    "# Number of patients with different diagnosis\n",
    "df.groupby([\"Diagnosis\", 'benign/malignant']).count()"
   ]
  },
  {
   "cell_type": "code",
   "execution_count": 81,
   "metadata": {},
   "outputs": [
    {
     "data": {
      "text/html": [
       "<div>\n",
       "<style scoped>\n",
       "    .dataframe tbody tr th:only-of-type {\n",
       "        vertical-align: middle;\n",
       "    }\n",
       "\n",
       "    .dataframe tbody tr th {\n",
       "        vertical-align: top;\n",
       "    }\n",
       "\n",
       "    .dataframe thead th {\n",
       "        text-align: right;\n",
       "    }\n",
       "</style>\n",
       "<table border=\"1\" class=\"dataframe\">\n",
       "  <thead>\n",
       "    <tr style=\"text-align: right;\">\n",
       "      <th></th>\n",
       "      <th></th>\n",
       "      <th>Age</th>\n",
       "      <th>Diagnosis</th>\n",
       "      <th>Image_type</th>\n",
       "    </tr>\n",
       "    <tr>\n",
       "      <th>benign/malignant</th>\n",
       "      <th>Sex</th>\n",
       "      <th></th>\n",
       "      <th></th>\n",
       "      <th></th>\n",
       "    </tr>\n",
       "  </thead>\n",
       "  <tbody>\n",
       "    <tr>\n",
       "      <th rowspan=\"2\" valign=\"top\">benign</th>\n",
       "      <th>female</th>\n",
       "      <td>8029</td>\n",
       "      <td>7995</td>\n",
       "      <td>8052</td>\n",
       "    </tr>\n",
       "    <tr>\n",
       "      <th>male</th>\n",
       "      <td>10997</td>\n",
       "      <td>10923</td>\n",
       "      <td>11023</td>\n",
       "    </tr>\n",
       "    <tr>\n",
       "      <th rowspan=\"2\" valign=\"top\">malignant</th>\n",
       "      <th>female</th>\n",
       "      <td>816</td>\n",
       "      <td>813</td>\n",
       "      <td>819</td>\n",
       "    </tr>\n",
       "    <tr>\n",
       "      <th>male</th>\n",
       "      <td>1361</td>\n",
       "      <td>1343</td>\n",
       "      <td>1362</td>\n",
       "    </tr>\n",
       "  </tbody>\n",
       "</table>\n",
       "</div>"
      ],
      "text/plain": [
       "                           Age  Diagnosis  Image_type\n",
       "benign/malignant Sex                                 \n",
       "benign           female   8029       7995        8052\n",
       "                 male    10997      10923       11023\n",
       "malignant        female    816        813         819\n",
       "                 male     1361       1343        1362"
      ]
     },
     "execution_count": 81,
     "metadata": {},
     "output_type": "execute_result"
    }
   ],
   "source": [
    "# Number of patients with different diagnosis\n",
    "df.groupby(['benign/malignant', \"Sex\"]).count()"
   ]
  },
  {
   "cell_type": "code",
   "execution_count": 90,
   "metadata": {},
   "outputs": [
    {
     "data": {
      "text/html": [
       "<div>\n",
       "<style scoped>\n",
       "    .dataframe tbody tr th:only-of-type {\n",
       "        vertical-align: middle;\n",
       "    }\n",
       "\n",
       "    .dataframe tbody tr th {\n",
       "        vertical-align: top;\n",
       "    }\n",
       "\n",
       "    .dataframe thead th {\n",
       "        text-align: right;\n",
       "    }\n",
       "</style>\n",
       "<table border=\"1\" class=\"dataframe\">\n",
       "  <thead>\n",
       "    <tr style=\"text-align: right;\">\n",
       "      <th></th>\n",
       "      <th>Age</th>\n",
       "      <th>benign/malignant</th>\n",
       "      <th>Diagnosis</th>\n",
       "      <th>Image_type</th>\n",
       "    </tr>\n",
       "    <tr>\n",
       "      <th>Sex</th>\n",
       "      <th></th>\n",
       "      <th></th>\n",
       "      <th></th>\n",
       "      <th></th>\n",
       "    </tr>\n",
       "  </thead>\n",
       "  <tbody>\n",
       "    <tr>\n",
       "      <th>female</th>\n",
       "      <td>0.415981</td>\n",
       "      <td>0.417204</td>\n",
       "      <td>0.414241</td>\n",
       "      <td>0.417204</td>\n",
       "    </tr>\n",
       "    <tr>\n",
       "      <th>male</th>\n",
       "      <td>0.581197</td>\n",
       "      <td>0.582467</td>\n",
       "      <td>0.576871</td>\n",
       "      <td>0.582467</td>\n",
       "    </tr>\n",
       "  </tbody>\n",
       "</table>\n",
       "</div>"
      ],
      "text/plain": [
       "             Age  benign/malignant  Diagnosis  Image_type\n",
       "Sex                                                      \n",
       "female  0.415981          0.417204   0.414241    0.417204\n",
       "male    0.581197          0.582467   0.576871    0.582467"
      ]
     },
     "execution_count": 90,
     "metadata": {},
     "output_type": "execute_result"
    }
   ],
   "source": [
    "df.groupby(df[\"Sex\"]).count() / df.Age.count()"
   ]
  },
  {
   "cell_type": "code",
   "execution_count": 92,
   "metadata": {},
   "outputs": [
    {
     "data": {
      "text/html": [
       "<div>\n",
       "<style scoped>\n",
       "    .dataframe tbody tr th:only-of-type {\n",
       "        vertical-align: middle;\n",
       "    }\n",
       "\n",
       "    .dataframe tbody tr th {\n",
       "        vertical-align: top;\n",
       "    }\n",
       "\n",
       "    .dataframe thead th {\n",
       "        text-align: right;\n",
       "    }\n",
       "</style>\n",
       "<table border=\"1\" class=\"dataframe\">\n",
       "  <thead>\n",
       "    <tr style=\"text-align: right;\">\n",
       "      <th></th>\n",
       "      <th></th>\n",
       "      <th>Age</th>\n",
       "      <th>Diagnosis</th>\n",
       "      <th>Sex</th>\n",
       "    </tr>\n",
       "    <tr>\n",
       "      <th>Image_type</th>\n",
       "      <th>benign/malignant</th>\n",
       "      <th></th>\n",
       "      <th></th>\n",
       "      <th></th>\n",
       "    </tr>\n",
       "  </thead>\n",
       "  <tbody>\n",
       "    <tr>\n",
       "      <th>clinical</th>\n",
       "      <th>malignant</th>\n",
       "      <td>88</td>\n",
       "      <td>88</td>\n",
       "      <td>88</td>\n",
       "    </tr>\n",
       "    <tr>\n",
       "      <th rowspan=\"2\" valign=\"top\">dermoscopic</th>\n",
       "      <th>benign</th>\n",
       "      <td>19076</td>\n",
       "      <td>19171</td>\n",
       "      <td>19075</td>\n",
       "    </tr>\n",
       "    <tr>\n",
       "      <th>malignant</th>\n",
       "      <td>2099</td>\n",
       "      <td>2170</td>\n",
       "      <td>2093</td>\n",
       "    </tr>\n",
       "  </tbody>\n",
       "</table>\n",
       "</div>"
      ],
      "text/plain": [
       "                                Age  Diagnosis    Sex\n",
       "Image_type  benign/malignant                         \n",
       "clinical    malignant            88         88     88\n",
       "dermoscopic benign            19076      19171  19075\n",
       "            malignant          2099       2170   2093"
      ]
     },
     "execution_count": 92,
     "metadata": {},
     "output_type": "execute_result"
    }
   ],
   "source": [
    "# Number of patients by different image types\n",
    "df.groupby([\"Image_type\", 'benign/malignant']).count()"
   ]
  }
 ],
 "metadata": {
  "kernelspec": {
   "display_name": "Python 3",
   "language": "python",
   "name": "python3"
  },
  "language_info": {
   "codemirror_mode": {
    "name": "ipython",
    "version": 3
   },
   "file_extension": ".py",
   "mimetype": "text/x-python",
   "name": "python",
   "nbconvert_exporter": "python",
   "pygments_lexer": "ipython3",
   "version": "3.7.6"
  }
 },
 "nbformat": 4,
 "nbformat_minor": 4
}
