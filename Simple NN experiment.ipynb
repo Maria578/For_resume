{
 "cells": [
  {
   "cell_type": "markdown",
   "metadata": {},
   "source": [
    "## Simple NN experiment"
   ]
  },
  {
   "cell_type": "markdown",
   "metadata": {},
   "source": [
    "### 1. Preprocessing"
   ]
  },
  {
   "cell_type": "markdown",
   "metadata": {},
   "source": [
    "Importing the libraries"
   ]
  },
  {
   "cell_type": "code",
   "execution_count": 1,
   "metadata": {},
   "outputs": [
    {
     "name": "stderr",
     "output_type": "stream",
     "text": [
      "Using TensorFlow backend.\n"
     ]
    }
   ],
   "source": [
    "from sklearn.preprocessing import LabelBinarizer\n",
    "from sklearn.model_selection import train_test_split\n",
    "from sklearn.metrics import classification_report, roc_curve, auc\n",
    "from sklearn.metrics import mean_squared_error\n",
    "from keras.models import Sequential\n",
    "from keras.models import Model\n",
    "from keras.layers.core import Dense\n",
    "from keras.layers.core import Activation\n",
    "from keras.layers.core import Dropout\n",
    "from keras.optimizers import SGD\n",
    "from keras.layers.convolutional import Conv2D \n",
    "from keras.layers.convolutional import MaxPooling2D \n",
    "from keras.layers import Flatten \n",
    "from keras.layers.normalization import BatchNormalization\n",
    "from keras.preprocessing.image import ImageDataGenerator\n",
    "from keras.callbacks import ModelCheckpoint, TensorBoard\n",
    "from keras.utils import to_categorical\n",
    "from keras import backend as K\n",
    "from imutils import paths\n",
    "import matplotlib.pyplot as plt\n",
    "import numpy as np\n",
    "import pandas as pd\n",
    "import tqdm\n",
    "import argparse\n",
    "import random\n",
    "import pickle\n",
    "import cv2\n",
    "import os"
   ]
  },
  {
   "cell_type": "code",
   "execution_count": 2,
   "metadata": {},
   "outputs": [],
   "source": [
    "path = \"C:\\\\Users\\\\mreun\\\\Moles\""
   ]
  },
  {
   "cell_type": "code",
   "execution_count": 3,
   "metadata": {},
   "outputs": [],
   "source": [
    "# Let's define the size of imported images\n",
    "height = 256\n",
    "width = 256\n",
    "\n",
    "epoch = 50 #epoch number for training the model"
   ]
  },
  {
   "cell_type": "code",
   "execution_count": 4,
   "metadata": {},
   "outputs": [],
   "source": [
    "# Initializing data and labels\n",
    "data = []\n",
    "labels = []"
   ]
  },
  {
   "cell_type": "code",
   "execution_count": 5,
   "metadata": {},
   "outputs": [],
   "source": [
    "imagePaths = sorted(list(paths.list_images(path)))\n",
    "random.seed(42)\n",
    "random.shuffle(imagePaths)"
   ]
  },
  {
   "cell_type": "code",
   "execution_count": 6,
   "metadata": {},
   "outputs": [],
   "source": [
    "# Cycle for downloading images\n",
    "for imagePath in imagePaths:\n",
    "    # loading image, changing the size to 64x64 pixels \n",
    "    # adding to the list\n",
    "    image = cv2.imread(imagePath)\n",
    "    image = np.array(cv2.resize(image, (height, width))).flatten()\n",
    "    data.append(image)\n",
    "\n",
    "    # retrieving the label from the path \n",
    "    # adding to the list\n",
    "    label = imagePath.split(os.path.sep)[-2]\n",
    "    labels.append(label)"
   ]
  },
  {
   "cell_type": "code",
   "execution_count": 7,
   "metadata": {},
   "outputs": [],
   "source": [
    "# normalizing pixels to the range from 0 to 1\n",
    "data = np.array(data, dtype=\"float32\") / 255.0\n",
    "labels = np.array(labels)"
   ]
  },
  {
   "cell_type": "code",
   "execution_count": 8,
   "metadata": {},
   "outputs": [],
   "source": [
    "X_train, X_test, y_train, y_test = train_test_split(data, labels, test_size=0.2, random_state=42)"
   ]
  },
  {
   "cell_type": "code",
   "execution_count": 9,
   "metadata": {},
   "outputs": [],
   "source": [
    "# transforming labels into 0 and 1 and then to vectors\n",
    "\n",
    "lb = LabelBinarizer()\n",
    "y_train = lb.fit_transform(y_train)\n",
    "y_test = lb.transform(y_test)\n",
    "\n",
    "y_train = to_categorical(y_train)\n",
    "y_test = to_categorical(y_test)"
   ]
  },
  {
   "cell_type": "code",
   "execution_count": 10,
   "metadata": {},
   "outputs": [],
   "source": [
    "num_classes = y_test.shape[1]\n",
    "num_pixels = X_train.shape[1]  # find size of one-dimensional vector"
   ]
  },
  {
   "cell_type": "code",
   "execution_count": 11,
   "metadata": {},
   "outputs": [
    {
     "data": {
      "text/plain": [
       "(5335, 196608)"
      ]
     },
     "execution_count": 11,
     "metadata": {},
     "output_type": "execute_result"
    }
   ],
   "source": [
    "data.shape"
   ]
  },
  {
   "cell_type": "markdown",
   "metadata": {},
   "source": [
    "### 2. Training the model"
   ]
  },
  {
   "cell_type": "code",
   "execution_count": 12,
   "metadata": {},
   "outputs": [],
   "source": [
    "def simple_NN():\n",
    "\n",
    "    model = Sequential()\n",
    "    model.add(Dense(1024, input_shape=(num_pixels,), activation=\"sigmoid\"))\n",
    "    model.add(Dense(512, activation=\"sigmoid\"))\n",
    "    model.add(Dense(num_classes, activation=\"softmax\"))\n",
    "\n",
    "    opt = SGD(lr=0.01)\n",
    "    model.compile(loss=\"categorical_crossentropy\", optimizer=opt, metrics=[\"accuracy\"])\n",
    "    return model"
   ]
  },
  {
   "cell_type": "code",
   "execution_count": 13,
   "metadata": {},
   "outputs": [],
   "source": [
    "# build the model\n",
    "model = simple_NN()"
   ]
  },
  {
   "cell_type": "code",
   "execution_count": 14,
   "metadata": {},
   "outputs": [
    {
     "name": "stdout",
     "output_type": "stream",
     "text": [
      "Train on 4268 samples, validate on 1067 samples\n",
      "Epoch 1/50\n",
      "4268/4268 [==============================] - 212s 50ms/step - loss: 0.6841 - accuracy: 0.5933 - val_loss: 0.6829 - val_accuracy: 0.5698\n",
      "\n",
      "Epoch 00001: val_loss improved from inf to 0.68293, saving model to Saved_models/weights.best.SNN.hdf5\n",
      "Epoch 2/50\n",
      "4268/4268 [==============================] - 206s 48ms/step - loss: 0.6480 - accuracy: 0.6162 - val_loss: 0.6120 - val_accuracy: 0.7104\n",
      "\n",
      "Epoch 00002: val_loss improved from 0.68293 to 0.61195, saving model to Saved_models/weights.best.SNN.hdf5\n",
      "Epoch 3/50\n",
      "4268/4268 [==============================] - 208s 49ms/step - loss: 0.6205 - accuracy: 0.6455 - val_loss: 0.6727 - val_accuracy: 0.6654\n",
      "\n",
      "Epoch 00003: val_loss did not improve from 0.61195\n",
      "Epoch 4/50\n",
      "4268/4268 [==============================] - 210s 49ms/step - loss: 0.6205 - accuracy: 0.6509 - val_loss: 0.7050 - val_accuracy: 0.5961\n",
      "\n",
      "Epoch 00004: val_loss did not improve from 0.61195\n",
      "Epoch 5/50\n",
      "4268/4268 [==============================] - 207s 48ms/step - loss: 0.5836 - accuracy: 0.6917 - val_loss: 0.6189 - val_accuracy: 0.6251\n",
      "\n",
      "Epoch 00005: val_loss did not improve from 0.61195\n",
      "Epoch 6/50\n",
      "4268/4268 [==============================] - 213s 50ms/step - loss: 0.5915 - accuracy: 0.6804 - val_loss: 0.5344 - val_accuracy: 0.7160\n",
      "\n",
      "Epoch 00006: val_loss improved from 0.61195 to 0.53439, saving model to Saved_models/weights.best.SNN.hdf5\n",
      "Epoch 7/50\n",
      "4268/4268 [==============================] - 211s 49ms/step - loss: 0.5804 - accuracy: 0.6825 - val_loss: 0.5259 - val_accuracy: 0.7170\n",
      "\n",
      "Epoch 00007: val_loss improved from 0.53439 to 0.52590, saving model to Saved_models/weights.best.SNN.hdf5\n",
      "Epoch 8/50\n",
      "4268/4268 [==============================] - 220s 52ms/step - loss: 0.5591 - accuracy: 0.6994 - val_loss: 0.5802 - val_accuracy: 0.6757\n",
      "\n",
      "Epoch 00008: val_loss did not improve from 0.52590\n",
      "Epoch 9/50\n",
      "4268/4268 [==============================] - 209s 49ms/step - loss: 0.5408 - accuracy: 0.7144 - val_loss: 0.6833 - val_accuracy: 0.6214\n",
      "\n",
      "Epoch 00009: val_loss did not improve from 0.52590\n",
      "Epoch 10/50\n",
      "4268/4268 [==============================] - 210s 49ms/step - loss: 0.5458 - accuracy: 0.7036 - val_loss: 0.5046 - val_accuracy: 0.7226\n",
      "\n",
      "Epoch 00010: val_loss improved from 0.52590 to 0.50456, saving model to Saved_models/weights.best.SNN.hdf5\n",
      "Epoch 11/50\n",
      "4268/4268 [==============================] - 212s 50ms/step - loss: 0.5350 - accuracy: 0.7177 - val_loss: 0.8603 - val_accuracy: 0.5295\n",
      "\n",
      "Epoch 00011: val_loss did not improve from 0.50456\n",
      "Epoch 12/50\n",
      "4268/4268 [==============================] - 208s 49ms/step - loss: 0.5408 - accuracy: 0.7102 - val_loss: 0.4982 - val_accuracy: 0.7366\n",
      "\n",
      "Epoch 00012: val_loss improved from 0.50456 to 0.49817, saving model to Saved_models/weights.best.SNN.hdf5\n",
      "Epoch 13/50\n",
      "4268/4268 [==============================] - 221s 52ms/step - loss: 0.5385 - accuracy: 0.7116 - val_loss: 0.6444 - val_accuracy: 0.6673\n",
      "\n",
      "Epoch 00013: val_loss did not improve from 0.49817\n",
      "Epoch 14/50\n",
      "4268/4268 [==============================] - 215s 50ms/step - loss: 0.5230 - accuracy: 0.7184 - val_loss: 0.4838 - val_accuracy: 0.7451\n",
      "\n",
      "Epoch 00014: val_loss improved from 0.49817 to 0.48382, saving model to Saved_models/weights.best.SNN.hdf5\n",
      "Epoch 15/50\n",
      "4268/4268 [==============================] - 210s 49ms/step - loss: 0.5242 - accuracy: 0.7193 - val_loss: 0.4948 - val_accuracy: 0.7254\n",
      "\n",
      "Epoch 00015: val_loss did not improve from 0.48382\n",
      "Epoch 16/50\n",
      "4268/4268 [==============================] - 236s 55ms/step - loss: 0.5168 - accuracy: 0.7235 - val_loss: 0.4955 - val_accuracy: 0.7329\n",
      "\n",
      "Epoch 00016: val_loss did not improve from 0.48382\n",
      "Epoch 17/50\n",
      "4268/4268 [==============================] - 198s 46ms/step - loss: 0.5106 - accuracy: 0.7266 - val_loss: 0.5596 - val_accuracy: 0.7226\n",
      "\n",
      "Epoch 00017: val_loss did not improve from 0.48382\n",
      "Epoch 18/50\n",
      "4268/4268 [==============================] - 200s 47ms/step - loss: 0.5174 - accuracy: 0.7212 - val_loss: 0.5963 - val_accuracy: 0.6860\n",
      "\n",
      "Epoch 00018: val_loss did not improve from 0.48382\n",
      "Epoch 19/50\n",
      "4268/4268 [==============================] - 220s 51ms/step - loss: 0.5185 - accuracy: 0.7172 - val_loss: 0.5844 - val_accuracy: 0.6898\n",
      "\n",
      "Epoch 00019: val_loss did not improve from 0.48382\n",
      "Epoch 20/50\n",
      "4268/4268 [==============================] - 209s 49ms/step - loss: 0.5056 - accuracy: 0.7256 - val_loss: 0.5111 - val_accuracy: 0.7160\n",
      "\n",
      "Epoch 00020: val_loss did not improve from 0.48382\n",
      "Epoch 21/50\n",
      "4268/4268 [==============================] - 214s 50ms/step - loss: 0.5077 - accuracy: 0.7329 - val_loss: 0.4797 - val_accuracy: 0.7460\n",
      "\n",
      "Epoch 00021: val_loss improved from 0.48382 to 0.47972, saving model to Saved_models/weights.best.SNN.hdf5\n",
      "Epoch 22/50\n",
      "4268/4268 [==============================] - 206s 48ms/step - loss: 0.4956 - accuracy: 0.7329 - val_loss: 0.4858 - val_accuracy: 0.7432\n",
      "\n",
      "Epoch 00022: val_loss did not improve from 0.47972\n",
      "Epoch 23/50\n",
      "4268/4268 [==============================] - 204s 48ms/step - loss: 0.4902 - accuracy: 0.7301 - val_loss: 0.4892 - val_accuracy: 0.7226\n",
      "\n",
      "Epoch 00023: val_loss did not improve from 0.47972\n",
      "Epoch 24/50\n",
      "4268/4268 [==============================] - 200s 47ms/step - loss: 0.4980 - accuracy: 0.7294 - val_loss: 0.4998 - val_accuracy: 0.7170\n",
      "\n",
      "Epoch 00024: val_loss did not improve from 0.47972\n",
      "Epoch 25/50\n",
      "4268/4268 [==============================] - 209s 49ms/step - loss: 0.4937 - accuracy: 0.7390 - val_loss: 0.4643 - val_accuracy: 0.7526\n",
      "\n",
      "Epoch 00025: val_loss improved from 0.47972 to 0.46430, saving model to Saved_models/weights.best.SNN.hdf5\n",
      "Epoch 26/50\n",
      "4268/4268 [==============================] - 201s 47ms/step - loss: 0.4982 - accuracy: 0.7313 - val_loss: 0.4819 - val_accuracy: 0.7432\n",
      "\n",
      "Epoch 00026: val_loss did not improve from 0.46430\n",
      "Epoch 27/50\n",
      "4268/4268 [==============================] - 200s 47ms/step - loss: 0.4846 - accuracy: 0.7366 - val_loss: 0.5622 - val_accuracy: 0.7076\n",
      "\n",
      "Epoch 00027: val_loss did not improve from 0.46430\n",
      "Epoch 28/50\n",
      "4268/4268 [==============================] - 212s 50ms/step - loss: 0.4872 - accuracy: 0.7448 - val_loss: 0.5472 - val_accuracy: 0.7104\n",
      "\n",
      "Epoch 00028: val_loss did not improve from 0.46430\n",
      "Epoch 29/50\n",
      "4268/4268 [==============================] - 236s 55ms/step - loss: 0.4822 - accuracy: 0.7448 - val_loss: 0.4621 - val_accuracy: 0.7498\n",
      "\n",
      "Epoch 00029: val_loss improved from 0.46430 to 0.46209, saving model to Saved_models/weights.best.SNN.hdf5\n",
      "Epoch 30/50\n",
      "4268/4268 [==============================] - 219s 51ms/step - loss: 0.4789 - accuracy: 0.7432 - val_loss: 0.4795 - val_accuracy: 0.7254\n",
      "\n",
      "Epoch 00030: val_loss did not improve from 0.46209\n",
      "Epoch 31/50\n",
      "4268/4268 [==============================] - 251s 59ms/step - loss: 0.4842 - accuracy: 0.7467 - val_loss: 0.4506 - val_accuracy: 0.7488\n",
      "\n",
      "Epoch 00031: val_loss improved from 0.46209 to 0.45060, saving model to Saved_models/weights.best.SNN.hdf5\n",
      "Epoch 32/50\n",
      "4268/4268 [==============================] - 213s 50ms/step - loss: 0.4859 - accuracy: 0.7350 - val_loss: 0.4750 - val_accuracy: 0.7498\n",
      "\n",
      "Epoch 00032: val_loss did not improve from 0.45060\n",
      "Epoch 33/50\n",
      "4268/4268 [==============================] - 224s 52ms/step - loss: 0.4871 - accuracy: 0.7381 - val_loss: 0.4589 - val_accuracy: 0.7498\n",
      "\n",
      "Epoch 00033: val_loss did not improve from 0.45060\n",
      "Epoch 34/50\n",
      "4268/4268 [==============================] - 195s 46ms/step - loss: 0.4664 - accuracy: 0.7589 - val_loss: 0.4556 - val_accuracy: 0.7563\n",
      "\n",
      "Epoch 00034: val_loss did not improve from 0.45060\n",
      "Epoch 35/50\n",
      "4268/4268 [==============================] - 197s 46ms/step - loss: 0.4828 - accuracy: 0.7413 - val_loss: 0.7350 - val_accuracy: 0.6270\n",
      "\n",
      "Epoch 00035: val_loss did not improve from 0.45060\n",
      "Epoch 36/50\n",
      "4268/4268 [==============================] - 193s 45ms/step - loss: 0.4758 - accuracy: 0.7530 - val_loss: 0.4493 - val_accuracy: 0.7516\n",
      "\n",
      "Epoch 00036: val_loss improved from 0.45060 to 0.44926, saving model to Saved_models/weights.best.SNN.hdf5\n",
      "Epoch 37/50\n",
      "4268/4268 [==============================] - 187s 44ms/step - loss: 0.4772 - accuracy: 0.7472 - val_loss: 0.6498 - val_accuracy: 0.6748\n",
      "\n",
      "Epoch 00037: val_loss did not improve from 0.44926\n",
      "Epoch 38/50\n",
      "4268/4268 [==============================] - 210s 49ms/step - loss: 0.4705 - accuracy: 0.7460 - val_loss: 0.6547 - val_accuracy: 0.6514\n",
      "\n",
      "Epoch 00038: val_loss did not improve from 0.44926\n",
      "Epoch 39/50\n",
      "4268/4268 [==============================] - 204s 48ms/step - loss: 0.4713 - accuracy: 0.7460 - val_loss: 0.4428 - val_accuracy: 0.7545\n",
      "\n",
      "Epoch 00039: val_loss improved from 0.44926 to 0.44285, saving model to Saved_models/weights.best.SNN.hdf5\n",
      "Epoch 40/50\n",
      "4268/4268 [==============================] - 207s 49ms/step - loss: 0.4757 - accuracy: 0.7420 - val_loss: 0.4942 - val_accuracy: 0.7366\n",
      "\n",
      "Epoch 00040: val_loss did not improve from 0.44285\n",
      "Epoch 41/50\n",
      "4268/4268 [==============================] - 208s 49ms/step - loss: 0.4744 - accuracy: 0.7537 - val_loss: 0.4743 - val_accuracy: 0.7385\n",
      "\n",
      "Epoch 00041: val_loss did not improve from 0.44285\n",
      "Epoch 42/50\n",
      "4268/4268 [==============================] - 231s 54ms/step - loss: 0.4535 - accuracy: 0.7573 - val_loss: 0.4959 - val_accuracy: 0.7423\n",
      "\n",
      "Epoch 00042: val_loss did not improve from 0.44285\n",
      "Epoch 43/50\n",
      "4268/4268 [==============================] - 208s 49ms/step - loss: 0.4625 - accuracy: 0.7601 - val_loss: 0.4841 - val_accuracy: 0.7329\n",
      "\n",
      "Epoch 00043: val_loss did not improve from 0.44285\n",
      "Epoch 44/50\n",
      "4268/4268 [==============================] - 211s 49ms/step - loss: 0.4613 - accuracy: 0.7519 - val_loss: 0.5009 - val_accuracy: 0.7216\n",
      "\n",
      "Epoch 00044: val_loss did not improve from 0.44285\n",
      "Epoch 45/50\n",
      "4268/4268 [==============================] - 212s 50ms/step - loss: 0.4699 - accuracy: 0.7502 - val_loss: 0.4571 - val_accuracy: 0.7470\n",
      "\n",
      "Epoch 00045: val_loss did not improve from 0.44285\n",
      "Epoch 46/50\n",
      "4268/4268 [==============================] - 214s 50ms/step - loss: 0.4581 - accuracy: 0.7648 - val_loss: 0.4719 - val_accuracy: 0.7366\n",
      "\n",
      "Epoch 00046: val_loss did not improve from 0.44285\n",
      "Epoch 47/50\n",
      "4268/4268 [==============================] - 212s 50ms/step - loss: 0.4645 - accuracy: 0.7516 - val_loss: 0.5532 - val_accuracy: 0.7076\n",
      "\n",
      "Epoch 00047: val_loss did not improve from 0.44285\n",
      "Epoch 48/50\n",
      "4268/4268 [==============================] - 223s 52ms/step - loss: 0.4599 - accuracy: 0.7573 - val_loss: 0.4779 - val_accuracy: 0.7470\n",
      "\n",
      "Epoch 00048: val_loss did not improve from 0.44285\n",
      "Epoch 49/50\n",
      "4268/4268 [==============================] - 221s 52ms/step - loss: 0.4574 - accuracy: 0.7575 - val_loss: 0.4371 - val_accuracy: 0.7573\n",
      "\n",
      "Epoch 00049: val_loss improved from 0.44285 to 0.43710, saving model to Saved_models/weights.best.SNN.hdf5\n",
      "Epoch 50/50\n",
      "4268/4268 [==============================] - 210s 49ms/step - loss: 0.4604 - accuracy: 0.7561 - val_loss: 0.4649 - val_accuracy: 0.7404\n",
      "\n",
      "Epoch 00050: val_loss did not improve from 0.43710\n",
      "Accuracy: 0.7403936386108398 \n",
      " Error: 25.960636138916016\n"
     ]
    }
   ],
   "source": [
    "checkpointer = ModelCheckpoint(filepath='Saved_models/weights.best.SNN.hdf5', \n",
    "                               verbose=1, \n",
    "                               save_best_only=True)\n",
    "# fit the model\n",
    "History_SNN = model.fit(X_train, y_train, \n",
    "              validation_data=(X_test, y_test), \n",
    "              epochs=epoch, \n",
    "              callbacks=[checkpointer],\n",
    "              verbose=1)\n",
    "\n",
    "# evaluate the model\n",
    "scores = model.evaluate(X_test, y_test, verbose=0)\n",
    "print(\"Accuracy: {} \\n Error: {}\".format(scores[1], 100-scores[1]*100))"
   ]
  },
  {
   "cell_type": "code",
   "execution_count": 15,
   "metadata": {},
   "outputs": [],
   "source": [
    "# Loading the weights\n",
    "model.load_weights(\"./Saved_models/weights.best.SNN.hdf5\")"
   ]
  },
  {
   "cell_type": "code",
   "execution_count": 16,
   "metadata": {},
   "outputs": [
    {
     "data": {
      "image/png": "[encoded data removed]",
      "text/plain": [
       "<Figure size 432x288 with 1 Axes>"
      ]
     },
     "metadata": {},
     "output_type": "display_data"
    }
   ],
   "source": [
    "N = np.arange(0, epoch)\n",
    "plt.style.use(\"ggplot\")\n",
    "plt.figure()\n",
    "plt.plot(N, History_SNN.history[\"loss\"], label=\"train_loss\")\n",
    "plt.plot(N, History_SNN.history[\"val_loss\"], label=\"val_loss\")\n",
    "plt.plot(N, History_SNN.history[\"accuracy\"], label=\"train_acc\")\n",
    "plt.plot(N, History_SNN.history[\"val_accuracy\"], label=\"val_acc\")\n",
    "plt.title(\"Training Loss and Accuracy (Simple NN)\")\n",
    "plt.xlabel(\"Epoch #\")\n",
    "plt.ylabel(\"Loss/Accuracy\")\n",
    "plt.legend()\n",
    "plt.show()"
   ]
  },
  {
   "cell_type": "markdown",
   "metadata": {},
   "source": [
    "## 3. Prediction"
   ]
  },
  {
   "cell_type": "code",
   "execution_count": 14,
   "metadata": {},
   "outputs": [],
   "source": [
    "# Let's upload test set the same way as it was done for training\n",
    "\n",
    "path_test = \"C:\\\\Users\\\\mreun\\\\Test\"\n",
    "imagePaths_test = sorted(list(paths.list_images(path_test)))"
   ]
  },
  {
   "cell_type": "code",
   "execution_count": 15,
   "metadata": {},
   "outputs": [],
   "source": [
    "data_test = []\n",
    "label_test = []\n",
    "predictions = []"
   ]
  },
  {
   "cell_type": "code",
   "execution_count": 16,
   "metadata": {},
   "outputs": [],
   "source": [
    "for imagePath in imagePaths_test:\n",
    "\n",
    "    image = cv2.imread(imagePath)\n",
    "    image = np.array(cv2.resize(image, (height, width))).flatten()\n",
    "    data_test.append(image)\n",
    "\n",
    "    label = imagePath.split(os.path.sep)[-2]\n",
    "    label_test.append(label)"
   ]
  },
  {
   "cell_type": "code",
   "execution_count": 17,
   "metadata": {},
   "outputs": [],
   "source": [
    "data_test = np.array(data_test, dtype=\"float32\") / 255.0\n",
    "label_test = np.array(label_test)"
   ]
  },
  {
   "cell_type": "code",
   "execution_count": 18,
   "metadata": {},
   "outputs": [],
   "source": [
    "def predict(image, \n",
    "            model_architecture = model, \n",
    "            path_model_weight = \"./Saved_models/weights.best.SNN.hdf5\"):\n",
    "\n",
    "    # Getting the model's architecture\n",
    "    model = model_architecture\n",
    "    # Loading the weights from the file\n",
    "    model.load_weights(path_model_weight)\n",
    "    # Predicting\n",
    "    pred = model.predict(image)\n",
    "    for_df = [pred[0][0], pred[0][1]]\n",
    "    predictions.append(for_df)\n",
    "    if np.argmax(pred) == 0:\n",
    "        return [1., 0.]\n",
    "    elif np.argmax(pred) == 1:\n",
    "        return [0., 1.]"
   ]
  },
  {
   "cell_type": "code",
   "execution_count": 19,
   "metadata": {},
   "outputs": [],
   "source": [
    "y_test_pred = lb.transform(label_test)\n",
    "y_true = to_categorical(y_test_pred) \n",
    "\n",
    "number_test = len(data_test)"
   ]
  },
  {
   "cell_type": "markdown",
   "metadata": {},
   "source": [
    "## 4. Evaluating the model"
   ]
  },
  {
   "cell_type": "code",
   "execution_count": 20,
   "metadata": {},
   "outputs": [],
   "source": [
    "def compute_roc(y_true, y_score):\n",
    "    \n",
    "    # Computing ROC curve and area\n",
    "    \n",
    "    false_positive_rate, true_positive_rate, thresholds = roc_curve(y_true, y_score) \n",
    "    auroc = auc(false_positive_rate, true_positive_rate) \n",
    "    return false_positive_rate, true_positive_rate, auroc"
   ]
  },
  {
   "cell_type": "code",
   "execution_count": 21,
   "metadata": {},
   "outputs": [],
   "source": [
    "def plot_roc(y_true, y_score):\n",
    "\n",
    "    # Ploting ROC curve\n",
    " \n",
    "    false_positive_rate, true_positive_rate, auroc = compute_roc(y_true, y_score)\n",
    "    plt.figure(figsize=(10,6))\n",
    "    plt.grid()\n",
    "    plt.plot(false_positive_rate, \n",
    "             true_positive_rate, \n",
    "             color='darkorange',\n",
    "             lw=2, \n",
    "             label='ROC curve (area = {:.2f})'.format(auroc))\n",
    "    plt.plot([0, 1], [0, 1], color='navy', lw=2, linestyle='--')\n",
    "    plt.xlim([0.0, 1.0])\n",
    "    plt.ylim([0.0, 1.05])\n",
    "    plt.xlabel('False Positive Rate', fontsize=12)\n",
    "    plt.ylabel('True Positive Rate', fontsize=12)\n",
    "    plt.title('Receiver operating characteristic example', fontsize=15)\n",
    "    plt.legend(loc=\"lower right\", fontsize=14)\n",
    "    plt.show()\n",
    "    \n",
    "plt.style.use(\"seaborn-white\")"
   ]
  },
  {
   "cell_type": "code",
   "execution_count": 22,
   "metadata": {},
   "outputs": [],
   "source": [
    "weight_path = \"./Saved_models/weights.best.SNN.hdf5\""
   ]
  },
  {
   "cell_type": "code",
   "execution_count": 23,
   "metadata": {},
   "outputs": [],
   "source": [
    "y_score_SNN = []\n",
    "for index in range(number_test): \n",
    "    probs = predict(image = np.expand_dims(data_test[index], axis=0), model_architecture = model, \n",
    "            path_model_weight = weight_path)\n",
    "    y_score_SNN.append(probs)\n",
    "    \n",
    "correct = np.array(y_true) == np.array(y_score_SNN)"
   ]
  },
  {
   "cell_type": "code",
   "execution_count": 24,
   "metadata": {},
   "outputs": [],
   "source": [
    "df_correct = pd.DataFrame(y_score_SNN, columns = [\"Non-melanoma_real\",\"Melanoma_real\"])\n",
    "df_prediction_SNN = pd.DataFrame(predictions, columns = [\"Non-melanoma_prediction\",\"Melanoma_prediction\"])\n",
    "df_merged=pd.concat([df_correct, df_prediction_SNN],axis=1)"
   ]
  },
  {
   "cell_type": "code",
   "execution_count": 25,
   "metadata": {},
   "outputs": [
    {
     "data": {
      "text/html": [
       "<div>\n",
       "<style scoped>\n",
       "    .dataframe tbody tr th:only-of-type {\n",
       "        vertical-align: middle;\n",
       "    }\n",
       "\n",
       "    .dataframe tbody tr th {\n",
       "        vertical-align: top;\n",
       "    }\n",
       "\n",
       "    .dataframe thead th {\n",
       "        text-align: right;\n",
       "    }\n",
       "</style>\n",
       "<table border=\"1\" class=\"dataframe\">\n",
       "  <thead>\n",
       "    <tr style=\"text-align: right;\">\n",
       "      <th></th>\n",
       "      <th>Non-melanoma_real</th>\n",
       "      <th>Melanoma_real</th>\n",
       "      <th>Non-melanoma_prediction</th>\n",
       "      <th>Melanoma_prediction</th>\n",
       "    </tr>\n",
       "  </thead>\n",
       "  <tbody>\n",
       "    <tr>\n",
       "      <th>0</th>\n",
       "      <td>1.0</td>\n",
       "      <td>0.0</td>\n",
       "      <td>0.989960</td>\n",
       "      <td>0.010040</td>\n",
       "    </tr>\n",
       "    <tr>\n",
       "      <th>1</th>\n",
       "      <td>1.0</td>\n",
       "      <td>0.0</td>\n",
       "      <td>0.969519</td>\n",
       "      <td>0.030481</td>\n",
       "    </tr>\n",
       "    <tr>\n",
       "      <th>2</th>\n",
       "      <td>0.0</td>\n",
       "      <td>1.0</td>\n",
       "      <td>0.479847</td>\n",
       "      <td>0.520153</td>\n",
       "    </tr>\n",
       "    <tr>\n",
       "      <th>3</th>\n",
       "      <td>1.0</td>\n",
       "      <td>0.0</td>\n",
       "      <td>0.981223</td>\n",
       "      <td>0.018777</td>\n",
       "    </tr>\n",
       "    <tr>\n",
       "      <th>4</th>\n",
       "      <td>1.0</td>\n",
       "      <td>0.0</td>\n",
       "      <td>0.986151</td>\n",
       "      <td>0.013849</td>\n",
       "    </tr>\n",
       "    <tr>\n",
       "      <th>5</th>\n",
       "      <td>1.0</td>\n",
       "      <td>0.0</td>\n",
       "      <td>0.965979</td>\n",
       "      <td>0.034021</td>\n",
       "    </tr>\n",
       "    <tr>\n",
       "      <th>6</th>\n",
       "      <td>1.0</td>\n",
       "      <td>0.0</td>\n",
       "      <td>0.979616</td>\n",
       "      <td>0.020384</td>\n",
       "    </tr>\n",
       "    <tr>\n",
       "      <th>7</th>\n",
       "      <td>1.0</td>\n",
       "      <td>0.0</td>\n",
       "      <td>0.619713</td>\n",
       "      <td>0.380287</td>\n",
       "    </tr>\n",
       "    <tr>\n",
       "      <th>8</th>\n",
       "      <td>1.0</td>\n",
       "      <td>0.0</td>\n",
       "      <td>0.987537</td>\n",
       "      <td>0.012463</td>\n",
       "    </tr>\n",
       "    <tr>\n",
       "      <th>9</th>\n",
       "      <td>1.0</td>\n",
       "      <td>0.0</td>\n",
       "      <td>0.761885</td>\n",
       "      <td>0.238115</td>\n",
       "    </tr>\n",
       "  </tbody>\n",
       "</table>\n",
       "</div>"
      ],
      "text/plain": [
       "   Non-melanoma_real  Melanoma_real  Non-melanoma_prediction  \\\n",
       "0                1.0            0.0                 0.989960   \n",
       "1                1.0            0.0                 0.969519   \n",
       "2                0.0            1.0                 0.479847   \n",
       "3                1.0            0.0                 0.981223   \n",
       "4                1.0            0.0                 0.986151   \n",
       "5                1.0            0.0                 0.965979   \n",
       "6                1.0            0.0                 0.979616   \n",
       "7                1.0            0.0                 0.619713   \n",
       "8                1.0            0.0                 0.987537   \n",
       "9                1.0            0.0                 0.761885   \n",
       "\n",
       "   Melanoma_prediction  \n",
       "0             0.010040  \n",
       "1             0.030481  \n",
       "2             0.520153  \n",
       "3             0.018777  \n",
       "4             0.013849  \n",
       "5             0.034021  \n",
       "6             0.020384  \n",
       "7             0.380287  \n",
       "8             0.012463  \n",
       "9             0.238115  "
      ]
     },
     "execution_count": 25,
     "metadata": {},
     "output_type": "execute_result"
    }
   ],
   "source": [
    "df_merged.head(10)"
   ]
  },
  {
   "cell_type": "code",
   "execution_count": 26,
   "metadata": {},
   "outputs": [
    {
     "name": "stdout",
     "output_type": "stream",
     "text": [
      "Accuracy = 71.50%\n"
     ]
    }
   ],
   "source": [
    "print(\"Accuracy = %2.2f%%\" % (np.mean(correct)*100))"
   ]
  },
  {
   "cell_type": "code",
   "execution_count": 27,
   "metadata": {},
   "outputs": [
    {
     "data": {
      "image/png": "[encoded data removed]",
      "text/plain": [
       "<Figure size 720x432 with 1 Axes>"
      ]
     },
     "metadata": {},
     "output_type": "display_data"
    }
   ],
   "source": [
    "# Re-ordering the actual y (for ROC)\n",
    "y_true_2 = []\n",
    "for i in range(len(y_true)):\n",
    "    y_true_2.append(y_true[i][0])\n",
    "    \n",
    "y_score_2 = []\n",
    "for i in range(len(y_score_SNN)):\n",
    "    y_score_2.append(y_score_SNN[i][0])\n",
    "\n",
    "plot_roc(y_true_2, y_score_2)"
   ]
  },
  {
   "cell_type": "code",
   "execution_count": 28,
   "metadata": {},
   "outputs": [],
   "source": [
    "def positive_negative_measurement(y_true, y_score_SNN):\n",
    "    # Initialization\n",
    "    TRUE_POSITIVE = 0\n",
    "    FALSE_POSITIVE = 0\n",
    "    TRUE_NEGATIVE = 0\n",
    "    FALSE_NEGATIVE = 0\n",
    "    \n",
    "    # Calculating the model\n",
    "    for i in range(len(y_score_SNN)):\n",
    "        if y_true[i] == y_score_SNN[i] == 1:\n",
    "            TRUE_POSITIVE += 1\n",
    "        if (y_score_SNN[i] == 1) and (y_true[i] != y_score_SNN[i]):\n",
    "            FALSE_POSITIVE += 1\n",
    "        if y_true[i] == y_score_SNN[i] == 0:\n",
    "            TRUE_NEGATIVE += 1\n",
    "        if (y_score_SNN[i] == 0) and (y_true[i] != y_score_SNN[i]):\n",
    "            FALSE_NEGATIVE += 1\n",
    "\n",
    "    return(TRUE_POSITIVE, FALSE_POSITIVE, TRUE_NEGATIVE, FALSE_NEGATIVE)"
   ]
  },
  {
   "cell_type": "code",
   "execution_count": 29,
   "metadata": {},
   "outputs": [],
   "source": [
    "TRUE_POSITIVE, FALSE_POSITIVE, TRUE_NEGATIVE, FALSE_NEGATIVE = positive_negative_measurement(y_true_2, y_score_2)\n",
    "postives_negatives = [[TRUE_POSITIVE, FALSE_POSITIVE], \n",
    "                      [FALSE_NEGATIVE, TRUE_NEGATIVE]]"
   ]
  },
  {
   "cell_type": "code",
   "execution_count": 31,
   "metadata": {},
   "outputs": [
    {
     "data": {
      "text/plain": [
       "<matplotlib.axes._subplots.AxesSubplot at 0x1cca617c848>"
      ]
     },
     "execution_count": 31,
     "metadata": {},
     "output_type": "execute_result"
    },
    {
     "data": {
      "image/png": "[encoded data removed]",
      "text/plain": [
       "<Figure size 936x720 with 2 Axes>"
      ]
     },
     "metadata": {},
     "output_type": "display_data"
    }
   ],
   "source": [
    "import seaborn as sns\n",
    "sns.set()\n",
    "labels =  np.array([['True positive: ' + str(TRUE_POSITIVE),\n",
    "                     'False positive: ' + str(FALSE_POSITIVE)],\n",
    "                    ['False negative: ' + str(FALSE_NEGATIVE),\n",
    "                     'True negative: ' + str(TRUE_NEGATIVE)]])\n",
    "plt.figure(figsize = (13, 10))\n",
    "sns.heatmap(postives_negatives, annot = labels, linewidths = 0.1, fmt=\"\", cmap = 'RdYlGn', annot_kws={\"size\":32})"
   ]
  },
  {
   "cell_type": "code",
   "execution_count": 47,
   "metadata": {},
   "outputs": [],
   "source": [
    "sensitivity = TRUE_POSITIVE / (TRUE_POSITIVE + FALSE_NEGATIVE)\n",
    "specifity = TRUE_NEGATIVE / (TRUE_NEGATIVE + FALSE_NEGATIVE)\n",
    "precision = TRUE_POSITIVE / (TRUE_POSITIVE + FALSE_POSITIVE)\n",
    "accuracy = (TRUE_POSITIVE + TRUE_NEGATIVE) / (TRUE_POSITIVE + FALSE_POSITIVE + TRUE_NEGATIVE + FALSE_NEGATIVE)\n",
    "name = \"SNN\"\n",
    "scores_SNN = [name, sensitivity, specifity, precision, accuracy]"
   ]
  },
  {
   "cell_type": "code",
   "execution_count": 48,
   "metadata": {},
   "outputs": [],
   "source": [
    "sensitivity = TRUE_POSITIVE / (TRUE_POSITIVE + FALSE_NEGATIVE)\n",
    "specifity = TRUE_NEGATIVE / (TRUE_NEGATIVE + FALSE_NEGATIVE)\n",
    "precision = TRUE_POSITIVE / (TRUE_POSITIVE + FALSE_POSITIVE)\n",
    "accuracy = (TRUE_POSITIVE + TRUE_NEGATIVE) / (TRUE_POSITIVE + FALSE_POSITIVE + TRUE_NEGATIVE + FALSE_NEGATIVE)\n",
    "name = \"SNN\"\n",
    "scores_SNN = [SNN, 0.9, 0.84127, 0.656934, 0.715]"
   ]
  },
  {
   "cell_type": "code",
   "execution_count": null,
   "metadata": {},
   "outputs": [],
   "source": [
    "scores_SNN = [name, sensitivity, specifity, precision, accuracy]"
   ]
  },
  {
   "cell_type": "code",
   "execution_count": 50,
   "metadata": {},
   "outputs": [
    {
     "data": {
      "text/html": [
       "<div>\n",
       "<style scoped>\n",
       "    .dataframe tbody tr th:only-of-type {\n",
       "        vertical-align: middle;\n",
       "    }\n",
       "\n",
       "    .dataframe tbody tr th {\n",
       "        vertical-align: top;\n",
       "    }\n",
       "\n",
       "    .dataframe thead th {\n",
       "        text-align: right;\n",
       "    }\n",
       "</style>\n",
       "<table border=\"1\" class=\"dataframe\">\n",
       "  <thead>\n",
       "    <tr style=\"text-align: right;\">\n",
       "      <th></th>\n",
       "      <th>Model</th>\n",
       "      <th>Sensitivity</th>\n",
       "      <th>Specifity</th>\n",
       "      <th>Precision</th>\n",
       "      <th>Accuracy</th>\n",
       "    </tr>\n",
       "  </thead>\n",
       "  <tbody>\n",
       "    <tr>\n",
       "      <th>0</th>\n",
       "      <td>SNN</td>\n",
       "      <td>0.9</td>\n",
       "      <td>0.84127</td>\n",
       "      <td>0.656934</td>\n",
       "      <td>0.715</td>\n",
       "    </tr>\n",
       "  </tbody>\n",
       "</table>\n",
       "</div>"
      ],
      "text/plain": [
       "  Model  Sensitivity  Specifity  Precision  Accuracy\n",
       "0   SNN          0.9    0.84127   0.656934     0.715"
      ]
     },
     "execution_count": 50,
     "metadata": {},
     "output_type": "execute_result"
    }
   ],
   "source": [
    "df_scores_SNN = pd.DataFrame([scores_SNN], columns = [\"Model\",  \"Sensitivity\",  \"Specifity\",  \"Precision\", \"Accuracy\"])\n",
    "df_scores_SNN"
   ]
  }
 ],
 "metadata": {
  "kernelspec": {
   "display_name": "Python 3",
   "language": "python",
   "name": "python3"
  },
  "language_info": {
   "codemirror_mode": {
    "name": "ipython",
    "version": 3
   },
   "file_extension": ".py",
   "mimetype": "text/x-python",
   "name": "python",
   "nbconvert_exporter": "python",
   "pygments_lexer": "ipython3",
   "version": "3.7.6"
  }
 },
 "nbformat": 4,
 "nbformat_minor": 4
}
