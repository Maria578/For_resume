{
 "cells": [
  {
   "cell_type": "markdown",
   "metadata": {},
   "source": [
    "## Computer-Aided Melanoma detection using machine learning techniques"
   ]
  },
  {
   "cell_type": "markdown",
   "metadata": {},
   "source": [
    "## Transfer Learning"
   ]
  },
  {
   "cell_type": "markdown",
   "metadata": {},
   "source": [
    "### 1. Preprocessing"
   ]
  },
  {
   "cell_type": "markdown",
   "metadata": {},
   "source": [
    "Importing the libraries"
   ]
  },
  {
   "cell_type": "code",
   "execution_count": 1,
   "metadata": {},
   "outputs": [
    {
     "name": "stderr",
     "output_type": "stream",
     "text": [
      "Using TensorFlow backend.\n"
     ]
    }
   ],
   "source": [
    "from sklearn.preprocessing import LabelBinarizer\n",
    "from sklearn.model_selection import train_test_split\n",
    "from sklearn.metrics import classification_report, roc_curve, auc\n",
    "from sklearn.metrics import mean_squared_error\n",
    "from keras.models import Sequential\n",
    "from keras.models import Model\n",
    "from keras.layers.core import Dense\n",
    "from keras.layers.core import Activation\n",
    "from keras.layers.core import Dropout\n",
    "from keras.optimizers import SGD\n",
    "from keras.layers.convolutional import Conv2D \n",
    "from keras.layers.convolutional import MaxPooling2D\n",
    "from keras.layers import Flatten \n",
    "from keras.layers.normalization import BatchNormalization\n",
    "from keras.preprocessing.image import ImageDataGenerator\n",
    "from keras.callbacks import ModelCheckpoint, TensorBoard\n",
    "from keras.layers import GlobalAveragePooling2D\n",
    "from keras.utils import to_categorical\n",
    "from keras import backend as K\n",
    "from imutils import paths\n",
    "import matplotlib.pyplot as plt\n",
    "import numpy as np\n",
    "import pandas as pd\n",
    "import tqdm\n",
    "import argparse\n",
    "import random\n",
    "import pickle\n",
    "import keras\n",
    "import cv2\n",
    "import os"
   ]
  },
  {
   "cell_type": "code",
   "execution_count": 2,
   "metadata": {},
   "outputs": [],
   "source": [
    "path = \"C:\\\\Users\\\\mreun\\\\Moles\""
   ]
  },
  {
   "cell_type": "code",
   "execution_count": 3,
   "metadata": {},
   "outputs": [],
   "source": [
    "# Let's define the size of imported images\n",
    "height = 256\n",
    "width = 256\n",
    "\n",
    "epoch = 15 #epoch number for training the model"
   ]
  },
  {
   "cell_type": "code",
   "execution_count": 4,
   "metadata": {},
   "outputs": [],
   "source": [
    "# Initializing data and labels\n",
    "data = []\n",
    "labels = []"
   ]
  },
  {
   "cell_type": "code",
   "execution_count": 5,
   "metadata": {},
   "outputs": [],
   "source": [
    "imagePaths = sorted(list(paths.list_images(path)))\n",
    "random.seed(42)\n",
    "random.shuffle(imagePaths)"
   ]
  },
  {
   "cell_type": "code",
   "execution_count": 6,
   "metadata": {},
   "outputs": [],
   "source": [
    "# Cycle for downloading images\n",
    "for imagePath in imagePaths:\n",
    "    # loading image, changing the size to 64x64 pixels \n",
    "    # adding to the list\n",
    "    image = cv2.imread(imagePath)\n",
    "    image = np.array(cv2.resize(image, (height, width)))\n",
    "    data.append(image)\n",
    "\n",
    "    # retrieving the label from the path \n",
    "    # adding to the list\n",
    "    label = imagePath.split(os.path.sep)[-2]\n",
    "    labels.append(label)"
   ]
  },
  {
   "cell_type": "code",
   "execution_count": 7,
   "metadata": {},
   "outputs": [],
   "source": [
    "# normalizing pixels to the range from 0 to 1\n",
    "data = np.array(data, dtype=\"float\") / 255.0\n",
    "labels = np.array(labels)"
   ]
  },
  {
   "cell_type": "code",
   "execution_count": 8,
   "metadata": {},
   "outputs": [],
   "source": [
    "X_train, X_test, y_train, y_test = train_test_split(data, labels, test_size=0.2, random_state=42)"
   ]
  },
  {
   "cell_type": "code",
   "execution_count": 9,
   "metadata": {},
   "outputs": [],
   "source": [
    "# transforming labels into 0 and 1 and then to vectors\n",
    "\n",
    "lb = LabelBinarizer()\n",
    "y_train = lb.fit_transform(y_train)\n",
    "y_test = lb.transform(y_test)\n",
    "\n",
    "y_train = to_categorical(y_train)\n",
    "y_test = to_categorical(y_test)"
   ]
  },
  {
   "cell_type": "code",
   "execution_count": 10,
   "metadata": {},
   "outputs": [],
   "source": [
    "num_classes = y_test.shape[1]\n",
    "num_pixels = X_train[0].shape[0] * X_train[0].shape[1] * X_train[0].shape[2] # find size of one-dimensional vector"
   ]
  },
  {
   "cell_type": "code",
   "execution_count": 11,
   "metadata": {},
   "outputs": [
    {
     "data": {
      "text/plain": [
       "(5335, 256, 256, 3)"
      ]
     },
     "execution_count": 11,
     "metadata": {},
     "output_type": "execute_result"
    }
   ],
   "source": [
    "data.shape"
   ]
  },
  {
   "cell_type": "markdown",
   "metadata": {},
   "source": [
    "### 2. Training the model"
   ]
  },
  {
   "cell_type": "markdown",
   "metadata": {},
   "source": [
    "#### Inception"
   ]
  },
  {
   "cell_type": "code",
   "execution_count": 12,
   "metadata": {},
   "outputs": [],
   "source": [
    "def inception_architecture():\n",
    "\n",
    "    from keras.applications.inception_v3 import InceptionV3\n",
    "\n",
    "    # Pre-build model\n",
    "    base_model = InceptionV3(include_top = False, weights = None, input_shape = (height, width, 3))\n",
    "\n",
    "    # Adding output layers\n",
    "    x = base_model.output\n",
    "    x = GlobalAveragePooling2D()(x)\n",
    "    output = Dense(units = 2, activation = 'softmax')(x)\n",
    "\n",
    "    # Creating the model\n",
    "    inception_model = Model(base_model.input, output)\n",
    "    \n",
    "    # Compiling the model\n",
    "    inception_model.compile(optimizer = keras.optimizers.Adam(lr = 0.001), \n",
    "                            loss = 'categorical_crossentropy', \n",
    "                            metrics = ['accuracy'])\n",
    "    \n",
    "    return inception_model"
   ]
  },
  {
   "cell_type": "code",
   "execution_count": 13,
   "metadata": {},
   "outputs": [],
   "source": [
    "inception_model = inception_architecture()"
   ]
  },
  {
   "cell_type": "code",
   "execution_count": 14,
   "metadata": {},
   "outputs": [
    {
     "name": "stdout",
     "output_type": "stream",
     "text": [
      "Train on 4268 samples, validate on 1067 samples\n",
      "Epoch 1/15\n",
      "4268/4268 [==============================] - 2165s 507ms/step - loss: 0.6583 - accuracy: 0.6518 - val_loss: 0.6104 - val_accuracy: 0.6720\n",
      "\n",
      "Epoch 00001: val_loss improved from inf to 0.61042, saving model to Saved_models/weights.best.inception.hdf5\n",
      "Epoch 2/15\n",
      "4268/4268 [==============================] - 2204s 516ms/step - loss: 0.5977 - accuracy: 0.6645 - val_loss: 0.6179 - val_accuracy: 0.6354\n",
      "\n",
      "Epoch 00002: val_loss did not improve from 0.61042\n",
      "Epoch 3/15\n",
      "4268/4268 [==============================] - 2203s 516ms/step - loss: 0.5795 - accuracy: 0.6884 - val_loss: 0.5926 - val_accuracy: 0.7320\n",
      "\n",
      "Epoch 00003: val_loss improved from 0.61042 to 0.59260, saving model to Saved_models/weights.best.inception.hdf5\n",
      "Epoch 4/15\n",
      "4268/4268 [==============================] - 2192s 514ms/step - loss: 0.5333 - accuracy: 0.7165 - val_loss: 0.4795 - val_accuracy: 0.7591\n",
      "\n",
      "Epoch 00004: val_loss improved from 0.59260 to 0.47949, saving model to Saved_models/weights.best.inception.hdf5\n",
      "Epoch 5/15\n",
      "4268/4268 [==============================] - 2199s 515ms/step - loss: 0.5327 - accuracy: 0.7231 - val_loss: 255.7378 - val_accuracy: 0.5014\n",
      "\n",
      "Epoch 00005: val_loss did not improve from 0.47949\n",
      "Epoch 6/15\n",
      "4268/4268 [==============================] - 2198s 515ms/step - loss: 0.6029 - accuracy: 0.6469 - val_loss: 0.4924 - val_accuracy: 0.7329\n",
      "\n",
      "Epoch 00006: val_loss did not improve from 0.47949\n",
      "Epoch 7/15\n",
      "4268/4268 [==============================] - 2183s 511ms/step - loss: 0.5612 - accuracy: 0.6942 - val_loss: 0.5609 - val_accuracy: 0.7048\n",
      "\n",
      "Epoch 00007: val_loss did not improve from 0.47949\n",
      "Epoch 8/15\n",
      "4268/4268 [==============================] - 2221s 520ms/step - loss: 0.5492 - accuracy: 0.7024 - val_loss: 0.5080 - val_accuracy: 0.7216\n",
      "\n",
      "Epoch 00008: val_loss did not improve from 0.47949\n",
      "Epoch 9/15\n",
      "4268/4268 [==============================] - 2191s 513ms/step - loss: 0.5394 - accuracy: 0.7132 - val_loss: 0.6928 - val_accuracy: 0.7132\n",
      "\n",
      "Epoch 00009: val_loss did not improve from 0.47949\n",
      "Epoch 10/15\n",
      "4268/4268 [==============================] - 2190s 513ms/step - loss: 0.5152 - accuracy: 0.7200 - val_loss: 0.5922 - val_accuracy: 0.7320\n",
      "\n",
      "Epoch 00010: val_loss did not improve from 0.47949\n",
      "Epoch 11/15\n",
      "4268/4268 [==============================] - 2200s 516ms/step - loss: 0.5081 - accuracy: 0.7186 - val_loss: 0.4777 - val_accuracy: 0.7404\n",
      "\n",
      "Epoch 00011: val_loss improved from 0.47949 to 0.47773, saving model to Saved_models/weights.best.inception.hdf5\n",
      "Epoch 12/15\n",
      "4268/4268 [==============================] - 2194s 514ms/step - loss: 0.5029 - accuracy: 0.7385 - val_loss: 0.6423 - val_accuracy: 0.6579\n",
      "\n",
      "Epoch 00012: val_loss did not improve from 0.47773\n",
      "Epoch 13/15\n",
      "4268/4268 [==============================] - 2202s 516ms/step - loss: 0.4994 - accuracy: 0.7371 - val_loss: 0.4078 - val_accuracy: 0.8126\n",
      "\n",
      "Epoch 00013: val_loss improved from 0.47773 to 0.40781, saving model to Saved_models/weights.best.inception.hdf5\n",
      "Epoch 14/15\n",
      "4268/4268 [==============================] - 2198s 515ms/step - loss: 0.4930 - accuracy: 0.7441 - val_loss: 0.7936 - val_accuracy: 0.6448\n",
      "\n",
      "Epoch 00014: val_loss did not improve from 0.40781\n",
      "Epoch 15/15\n",
      "4268/4268 [==============================] - 2197s 515ms/step - loss: 0.4930 - accuracy: 0.7369 - val_loss: 0.4452 - val_accuracy: 0.7844\n",
      "\n",
      "Epoch 00015: val_loss did not improve from 0.40781\n",
      "Accuracy: 0.7844423651695251 \n",
      " Error: 21.555763483047485\n"
     ]
    }
   ],
   "source": [
    "checkpointer = ModelCheckpoint(filepath='Saved_models/weights.best.inception.hdf5', \n",
    "                               verbose=1, \n",
    "                               save_best_only=True)\n",
    "\n",
    "History_incep = inception_model.fit(X_train, y_train, \n",
    "                    batch_size = 8,\n",
    "                    validation_data = (X_test, y_test),\n",
    "                    epochs = epoch,\n",
    "                    callbacks=[checkpointer], \n",
    "                    verbose=1)\n",
    "\n",
    "# evaluate the model\n",
    "scores = inception_model.evaluate(X_test, y_test, verbose=0)\n",
    "print(\"Accuracy: {} \\n Error: {}\".format(scores[1], 100-scores[1]*100))"
   ]
  },
  {
   "cell_type": "code",
   "execution_count": 15,
   "metadata": {},
   "outputs": [],
   "source": [
    "# Loading the weights\n",
    "inception_model.load_weights(\"./Saved_models/weights.best.inception.hdf5\")"
   ]
  },
  {
   "cell_type": "code",
   "execution_count": 16,
   "metadata": {
    "scrolled": true
   },
   "outputs": [
    {
     "data": {
      "image/png": "[encoded data removed]",
      "text/plain": [
       "<Figure size 432x288 with 1 Axes>"
      ]
     },
     "metadata": {},
     "output_type": "display_data"
    }
   ],
   "source": [
    "N = np.arange(0, epoch)\n",
    "plt.style.use(\"ggplot\")\n",
    "plt.figure()\n",
    "plt.plot(N, History_incep.history[\"loss\"], label=\"train_loss\")\n",
    "plt.plot(N, History_incep.history[\"val_loss\"], label=\"val_loss\")\n",
    "plt.plot(N, History_incep.history[\"accuracy\"], label=\"train_acc\")\n",
    "plt.plot(N, History_incep.history[\"val_accuracy\"], label=\"val_acc\")\n",
    "plt.title(\"Training Loss and Accuracy (Inception)\")\n",
    "plt.xlabel(\"Epoch #\")\n",
    "plt.ylabel(\"Loss/Accuracy\")\n",
    "plt.legend()\n",
    "plt.show()"
   ]
  },
  {
   "cell_type": "markdown",
   "metadata": {},
   "source": [
    "#### MobileNet"
   ]
  },
  {
   "cell_type": "code",
   "execution_count": 14,
   "metadata": {},
   "outputs": [],
   "source": [
    "def mobilenet_architecture():\n",
    "\n",
    "    from keras.applications.mobilenet import MobileNet\n",
    "\n",
    "    # Pre-build model\n",
    "    base_model = MobileNet(include_top = False, weights = None, input_shape = (height, width, 3))\n",
    "\n",
    "    # Adding output layers\n",
    "    x = base_model.output\n",
    "    x = GlobalAveragePooling2D()(x)\n",
    "    output = Dense(units = 2, activation = 'softmax')(x)\n",
    "\n",
    "    # Creating the model\n",
    "    mobilenet_model = Model(base_model.input, output)\n",
    "     \n",
    "    # Compiling the model\n",
    "    mobilenet_model.compile(optimizer = keras.optimizers.Adam(lr = 0.001), \n",
    "                            loss = 'categorical_crossentropy', \n",
    "                            metrics = ['accuracy'])\n",
    "\n",
    "    return mobilenet_model"
   ]
  },
  {
   "cell_type": "code",
   "execution_count": 15,
   "metadata": {},
   "outputs": [],
   "source": [
    "mobilenet_model = mobilenet_architecture()"
   ]
  },
  {
   "cell_type": "code",
   "execution_count": 16,
   "metadata": {},
   "outputs": [],
   "source": [
    "checkpointer = ModelCheckpoint(filepath='Saved_models/weights.best.mobilenet.hdf5', \n",
    "                               verbose=1, \n",
    "                               save_best_only=True)"
   ]
  },
  {
   "cell_type": "code",
   "execution_count": 29,
   "metadata": {},
   "outputs": [
    {
     "name": "stdout",
     "output_type": "stream",
     "text": [
      "Train on 4268 samples, validate on 1067 samples\n",
      "Epoch 1/15\n",
      "4268/4268 [==============================] - 1531s 359ms/step - loss: 0.5825 - accuracy: 0.6914 - val_loss: 1.9603 - val_accuracy: 0.5773\n",
      "\n",
      "Epoch 00001: val_loss improved from inf to 1.96031, saving model to Saved_models/weights.best.mobilenet.hdf5\n",
      "Epoch 2/15\n",
      "4268/4268 [==============================] - 1471s 345ms/step - loss: 0.5307 - accuracy: 0.7240 - val_loss: 0.4556 - val_accuracy: 0.7601\n",
      "\n",
      "Epoch 00002: val_loss improved from 1.96031 to 0.45564, saving model to Saved_models/weights.best.mobilenet.hdf5\n",
      "Epoch 3/15\n",
      "4268/4268 [==============================] - 1303s 305ms/step - loss: 0.5342 - accuracy: 0.7205 - val_loss: 0.4708 - val_accuracy: 0.7563\n",
      "\n",
      "Epoch 00003: val_loss did not improve from 0.45564\n",
      "Epoch 4/15\n",
      "4268/4268 [==============================] - 1215s 285ms/step - loss: 0.5097 - accuracy: 0.7359 - val_loss: 0.6079 - val_accuracy: 0.7376\n",
      "\n",
      "Epoch 00004: val_loss did not improve from 0.45564\n",
      "Epoch 5/15\n",
      "4268/4268 [==============================] - 1218s 285ms/step - loss: 0.4898 - accuracy: 0.7392 - val_loss: 0.5109 - val_accuracy: 0.7582\n",
      "\n",
      "Epoch 00005: val_loss did not improve from 0.45564\n",
      "Epoch 6/15\n",
      "4268/4268 [==============================] - 1223s 286ms/step - loss: 0.4733 - accuracy: 0.7547 - val_loss: 0.8122 - val_accuracy: 0.5530\n",
      "\n",
      "Epoch 00006: val_loss did not improve from 0.45564\n",
      "Epoch 7/15\n",
      "4268/4268 [==============================] - 1219s 286ms/step - loss: 0.4674 - accuracy: 0.7627 - val_loss: 0.5988 - val_accuracy: 0.7310\n",
      "\n",
      "Epoch 00007: val_loss did not improve from 0.45564\n",
      "Epoch 8/15\n",
      "4268/4268 [==============================] - 1212s 284ms/step - loss: 0.4766 - accuracy: 0.7575 - val_loss: 0.4562 - val_accuracy: 0.7648\n",
      "\n",
      "Epoch 00008: val_loss did not improve from 0.45564\n",
      "Epoch 9/15\n",
      "4268/4268 [==============================] - 1221s 286ms/step - loss: 0.4669 - accuracy: 0.7540 - val_loss: 0.4600 - val_accuracy: 0.7676\n",
      "\n",
      "Epoch 00009: val_loss did not improve from 0.45564\n",
      "Epoch 10/15\n",
      "4268/4268 [==============================] - 1214s 284ms/step - loss: 0.4537 - accuracy: 0.7732 - val_loss: 0.4590 - val_accuracy: 0.7460\n",
      "\n",
      "Epoch 00010: val_loss did not improve from 0.45564\n",
      "Epoch 11/15\n",
      "4268/4268 [==============================] - 1215s 285ms/step - loss: 0.4482 - accuracy: 0.7748 - val_loss: 0.4106 - val_accuracy: 0.8126\n",
      "\n",
      "Epoch 00011: val_loss improved from 0.45564 to 0.41056, saving model to Saved_models/weights.best.mobilenet.hdf5\n",
      "Epoch 12/15\n",
      "4268/4268 [==============================] - 1222s 286ms/step - loss: 0.4601 - accuracy: 0.7697 - val_loss: 0.5258 - val_accuracy: 0.7142\n",
      "\n",
      "Epoch 00012: val_loss did not improve from 0.41056\n",
      "Epoch 13/15\n",
      "4268/4268 [==============================] - 1215s 285ms/step - loss: 0.4432 - accuracy: 0.7776 - val_loss: 0.5398 - val_accuracy: 0.7226\n",
      "\n",
      "Epoch 00013: val_loss did not improve from 0.41056\n",
      "Epoch 14/15\n",
      "4268/4268 [==============================] - 1219s 286ms/step - loss: 0.4411 - accuracy: 0.7800 - val_loss: 0.4176 - val_accuracy: 0.7976\n",
      "\n",
      "Epoch 00014: val_loss did not improve from 0.41056\n",
      "Epoch 15/15\n",
      "4268/4268 [==============================] - 1213s 284ms/step - loss: 0.4162 - accuracy: 0.7966 - val_loss: 0.4570 - val_accuracy: 0.7891\n",
      "\n",
      "Epoch 00015: val_loss did not improve from 0.41056\n"
     ]
    },
    {
     "ename": "NameError",
     "evalue": "name 'mibilenet_model' is not defined",
     "output_type": "error",
     "traceback": [
      "\u001b[1;31m---------------------------------------------------------------------------\u001b[0m",
      "\u001b[1;31mNameError\u001b[0m                                 Traceback (most recent call last)",
      "\u001b[1;32m<ipython-input-29-404fe7607302>\u001b[0m in \u001b[0;36m<module>\u001b[1;34m\u001b[0m\n\u001b[0;32m      7\u001b[0m \u001b[1;33m\u001b[0m\u001b[0m\n\u001b[0;32m      8\u001b[0m \u001b[1;31m# evaluate the model\u001b[0m\u001b[1;33m\u001b[0m\u001b[1;33m\u001b[0m\u001b[1;33m\u001b[0m\u001b[0m\n\u001b[1;32m----> 9\u001b[1;33m \u001b[0mscores\u001b[0m \u001b[1;33m=\u001b[0m \u001b[0mmibilenet_model\u001b[0m\u001b[1;33m.\u001b[0m\u001b[0mevaluate\u001b[0m\u001b[1;33m(\u001b[0m\u001b[0mX_test\u001b[0m\u001b[1;33m,\u001b[0m \u001b[0my_test\u001b[0m\u001b[1;33m,\u001b[0m \u001b[0mverbose\u001b[0m\u001b[1;33m=\u001b[0m\u001b[1;36m0\u001b[0m\u001b[1;33m)\u001b[0m\u001b[1;33m\u001b[0m\u001b[1;33m\u001b[0m\u001b[0m\n\u001b[0m\u001b[0;32m     10\u001b[0m \u001b[0mprint\u001b[0m\u001b[1;33m(\u001b[0m\u001b[1;34m\"Accuracy: {} \\n Error: {}\"\u001b[0m\u001b[1;33m.\u001b[0m\u001b[0mformat\u001b[0m\u001b[1;33m(\u001b[0m\u001b[0mscores\u001b[0m\u001b[1;33m[\u001b[0m\u001b[1;36m1\u001b[0m\u001b[1;33m]\u001b[0m\u001b[1;33m,\u001b[0m \u001b[1;36m100\u001b[0m\u001b[1;33m-\u001b[0m\u001b[0mscores\u001b[0m\u001b[1;33m[\u001b[0m\u001b[1;36m1\u001b[0m\u001b[1;33m]\u001b[0m\u001b[1;33m*\u001b[0m\u001b[1;36m100\u001b[0m\u001b[1;33m)\u001b[0m\u001b[1;33m)\u001b[0m\u001b[1;33m\u001b[0m\u001b[1;33m\u001b[0m\u001b[0m\n",
      "\u001b[1;31mNameError\u001b[0m: name 'mibilenet_model' is not defined"
     ]
    }
   ],
   "source": [
    "History_mobnet = mobilenet_model.fit(X_train, y_train, \n",
    "                    batch_size = 8,\n",
    "                    validation_data = (X_test, y_test),\n",
    "                    epochs = epoch,\n",
    "                    callbacks=[checkpointer], \n",
    "                    verbose=1)\n",
    "\n",
    "# evaluate the model\n",
    "scores = mobilenet_model.evaluate(X_test, y_test, verbose=0)\n",
    "print(\"Accuracy: {} \\n Error: {}\".format(scores[1], 100-scores[1]*100))"
   ]
  },
  {
   "cell_type": "code",
   "execution_count": 31,
   "metadata": {},
   "outputs": [
    {
     "name": "stdout",
     "output_type": "stream",
     "text": [
      "1067/1067 [==============================] - 131s 123ms/step\n",
      "Accuracy: 0.7891284227371216 \n",
      " Error: 21.087157726287842\n"
     ]
    }
   ],
   "source": [
    "# evaluate the model\n",
    "scores = mobilenet_model.evaluate(X_test, y_test, verbose=1)\n",
    "print(\"Accuracy: {} \\n Error: {}\".format(scores[1], 100-scores[1]*100))"
   ]
  },
  {
   "cell_type": "code",
   "execution_count": 32,
   "metadata": {},
   "outputs": [],
   "source": [
    "# Loading the weights\n",
    "mobilenet_model.load_weights(\"./Saved_models/weights.best.mobilenet.hdf5\")"
   ]
  },
  {
   "cell_type": "code",
   "execution_count": 33,
   "metadata": {},
   "outputs": [
    {
     "data": {
      "image/png": "[encoded data removed]",
      "text/plain": [
       "<Figure size 432x288 with 1 Axes>"
      ]
     },
     "metadata": {},
     "output_type": "display_data"
    }
   ],
   "source": [
    "N = np.arange(0, epoch)\n",
    "plt.style.use(\"ggplot\")\n",
    "plt.figure()\n",
    "plt.plot(N, History_mobnet.history[\"loss\"], label=\"train_loss\")\n",
    "plt.plot(N, History_mobnet.history[\"val_loss\"], label=\"val_loss\")\n",
    "plt.plot(N, History_mobnet.history[\"accuracy\"], label=\"train_acc\")\n",
    "plt.plot(N, History_mobnet.history[\"val_accuracy\"], label=\"val_acc\")\n",
    "plt.title(\"Training Loss and Accuracy (MobileNet)\")\n",
    "plt.xlabel(\"Epoch #\")\n",
    "plt.ylabel(\"Loss/Accuracy\")\n",
    "plt.legend()\n",
    "plt.show()"
   ]
  },
  {
   "cell_type": "markdown",
   "metadata": {},
   "source": [
    "### Xception"
   ]
  },
  {
   "cell_type": "code",
   "execution_count": 16,
   "metadata": {},
   "outputs": [],
   "source": [
    "def xception_architecture():\n",
    "\n",
    "    from keras.applications.xception import Xception\n",
    "\n",
    "    # Pre-build model\n",
    "    base_model = Xception(include_top = False, weights = None, input_shape = (height, width, 3))\n",
    "\n",
    "    # Adding output layers\n",
    "    x = base_model.output\n",
    "    x = GlobalAveragePooling2D()(x)\n",
    "    output = Dense(units = 2, activation = 'softmax')(x)\n",
    "\n",
    "    # Creating the model\n",
    "    xception_model = Model(base_model.input, output)\n",
    "    \n",
    "    # Compiling the model\n",
    "    xception_model.compile(optimizer = keras.optimizers.Adam(lr = 0.001), \n",
    "                           loss = 'categorical_crossentropy', \n",
    "                           metrics = ['accuracy'])\n",
    "\n",
    "    return xception_model"
   ]
  },
  {
   "cell_type": "code",
   "execution_count": 17,
   "metadata": {},
   "outputs": [],
   "source": [
    "xception_model = xception_architecture()"
   ]
  },
  {
   "cell_type": "code",
   "execution_count": 14,
   "metadata": {},
   "outputs": [
    {
     "name": "stdout",
     "output_type": "stream",
     "text": [
      "Train on 4268 samples, validate on 1067 samples\n",
      "Epoch 1/15\n",
      "4268/4268 [==============================] - 4022s 942ms/step - loss: 0.6165 - accuracy: 0.6797 - val_loss: 0.5219 - val_accuracy: 0.7245\n",
      "\n",
      "Epoch 00001: val_loss improved from inf to 0.52193, saving model to Saved_models/weights.best.xception.hdf5\n",
      "Epoch 2/15\n",
      "4268/4268 [==============================] - 3968s 930ms/step - loss: 0.5350 - accuracy: 0.7289 - val_loss: 4.5816 - val_accuracy: 0.6617\n",
      "\n",
      "Epoch 00002: val_loss did not improve from 0.52193\n",
      "Epoch 3/15\n",
      "4268/4268 [==============================] - 3909s 916ms/step - loss: 0.5259 - accuracy: 0.7249 - val_loss: 3.2508 - val_accuracy: 0.4714\n",
      "\n",
      "Epoch 00003: val_loss did not improve from 0.52193\n",
      "Epoch 4/15\n",
      "4268/4268 [==============================] - 3931s 921ms/step - loss: 0.5241 - accuracy: 0.7275 - val_loss: 1.0779 - val_accuracy: 0.5914\n",
      "\n",
      "Epoch 00004: val_loss did not improve from 0.52193\n",
      "Epoch 5/15\n",
      "4268/4268 [==============================] - 3957s 927ms/step - loss: 0.4933 - accuracy: 0.7434 - val_loss: 0.4294 - val_accuracy: 0.8032\n",
      "\n",
      "Epoch 00005: val_loss improved from 0.52193 to 0.42938, saving model to Saved_models/weights.best.xception.hdf5\n",
      "Epoch 6/15\n",
      "4268/4268 [==============================] - 3936s 922ms/step - loss: 0.4662 - accuracy: 0.7601 - val_loss: 6.9843 - val_accuracy: 0.6467\n",
      "\n",
      "Epoch 00006: val_loss did not improve from 0.42938\n",
      "Epoch 7/15\n",
      "4268/4268 [==============================] - 3977s 932ms/step - loss: 0.4778 - accuracy: 0.7575 - val_loss: 0.4207 - val_accuracy: 0.7966\n",
      "\n",
      "Epoch 00007: val_loss improved from 0.42938 to 0.42074, saving model to Saved_models/weights.best.xception.hdf5\n",
      "Epoch 8/15\n",
      "4268/4268 [==============================] - 3995s 936ms/step - loss: 0.4627 - accuracy: 0.7685 - val_loss: 0.6250 - val_accuracy: 0.7395\n",
      "\n",
      "Epoch 00008: val_loss did not improve from 0.42074\n",
      "Epoch 9/15\n",
      "4268/4268 [==============================] - 3990s 935ms/step - loss: 0.4555 - accuracy: 0.7751 - val_loss: 0.4668 - val_accuracy: 0.7732\n",
      "\n",
      "Epoch 00009: val_loss did not improve from 0.42074\n",
      "Epoch 10/15\n",
      "4268/4268 [==============================] - 4139s 970ms/step - loss: 0.4533 - accuracy: 0.7741 - val_loss: 0.8758 - val_accuracy: 0.8004\n",
      "\n",
      "Epoch 00010: val_loss did not improve from 0.42074\n",
      "Epoch 11/15\n",
      "4268/4268 [==============================] - 4429s 1s/step - loss: 0.4418 - accuracy: 0.7842 - val_loss: 0.4404 - val_accuracy: 0.7976\n",
      "\n",
      "Epoch 00011: val_loss did not improve from 0.42074\n",
      "Epoch 12/15\n",
      "4268/4268 [==============================] - 3932s 921ms/step - loss: 0.4469 - accuracy: 0.7784 - val_loss: 0.4376 - val_accuracy: 0.7948\n",
      "\n",
      "Epoch 00012: val_loss did not improve from 0.42074\n",
      "Epoch 13/15\n",
      "4268/4268 [==============================] - 3996s 936ms/step - loss: 0.4359 - accuracy: 0.7809 - val_loss: 0.5206 - val_accuracy: 0.7582\n",
      "\n",
      "Epoch 00013: val_loss did not improve from 0.42074\n",
      "Epoch 14/15\n",
      "4268/4268 [==============================] - 3966s 929ms/step - loss: 0.4177 - accuracy: 0.7962 - val_loss: 0.4080 - val_accuracy: 0.8051\n",
      "\n",
      "Epoch 00014: val_loss improved from 0.42074 to 0.40801, saving model to Saved_models/weights.best.xception.hdf5\n",
      "Epoch 15/15\n",
      "4268/4268 [==============================] - 3975s 931ms/step - loss: 0.4131 - accuracy: 0.7990 - val_loss: 0.4515 - val_accuracy: 0.8004\n",
      "\n",
      "Epoch 00015: val_loss did not improve from 0.40801\n",
      "Accuracy: 0.8003748655319214 \n",
      " Error: 19.96251344680786\n"
     ]
    }
   ],
   "source": [
    "#tensor_board = TensorBoard(log_dir='./logs', histogram_freq = 0, batch_size = 8)\n",
    "\n",
    "checkpointer = ModelCheckpoint(filepath='Saved_models/weights.best.xception.hdf5', \n",
    "                               verbose=1, \n",
    "                               save_best_only=True)\n",
    "\n",
    "History_xcept = xception_model.fit(X_train, y_train, \n",
    "                   batch_size = 8,\n",
    "                   validation_data = (X_test, y_test),\n",
    "                    epochs = epoch,\n",
    "                   callbacks=[checkpointer], \n",
    "                   verbose=1)\n",
    "\n",
    "# evaluate the model\n",
    "scores = xception_model.evaluate(X_test, y_test, verbose=0)\n",
    "print(\"Accuracy: {} \\n Error: {}\".format(scores[1], 100-scores[1]*100))"
   ]
  },
  {
   "cell_type": "code",
   "execution_count": 15,
   "metadata": {},
   "outputs": [],
   "source": [
    "# Loading the weights\n",
    "xception_model.load_weights(\"./Saved_models/weights.best.xception.hdf5\")"
   ]
  },
  {
   "cell_type": "code",
   "execution_count": 16,
   "metadata": {},
   "outputs": [
    {
     "data": {
      "image/png": "[encoded data removed]",
      "text/plain": [
       "<Figure size 432x288 with 1 Axes>"
      ]
     },
     "metadata": {},
     "output_type": "display_data"
    }
   ],
   "source": [
    "N = np.arange(0, epoch)\n",
    "plt.style.use(\"ggplot\")\n",
    "plt.figure()\n",
    "plt.plot(N, History_xcept.history[\"loss\"], label=\"train_loss\")\n",
    "plt.plot(N, History_xcept.history[\"val_loss\"], label=\"val_loss\")\n",
    "plt.plot(N, History_xcept.history[\"accuracy\"], label=\"train_acc\")\n",
    "plt.plot(N, History_xcept.history[\"val_accuracy\"], label=\"val_acc\")\n",
    "plt.title(\"Training Loss and Accuracy (Xception)\")\n",
    "plt.xlabel(\"Epoch #\")\n",
    "plt.ylabel(\"Loss/Accuracy\")\n",
    "plt.legend()\n",
    "plt.show()"
   ]
  },
  {
   "cell_type": "markdown",
   "metadata": {},
   "source": [
    "## 3. Prediction"
   ]
  },
  {
   "cell_type": "code",
   "execution_count": 19,
   "metadata": {},
   "outputs": [],
   "source": [
    "model_architecture = mobilenet_architecture()\n",
    "weight_path = \"./Saved_models/weights.best.mobilenet.hdf5\""
   ]
  },
  {
   "cell_type": "code",
   "execution_count": 20,
   "metadata": {},
   "outputs": [],
   "source": [
    "# Let's upload test set the same way as it was done for training\n",
    "path_test = \"C:\\\\Users\\\\mreun\\\\Test\""
   ]
  },
  {
   "cell_type": "code",
   "execution_count": 21,
   "metadata": {},
   "outputs": [],
   "source": [
    "imagePaths_test = sorted(list(paths.list_images(path_test)))"
   ]
  },
  {
   "cell_type": "code",
   "execution_count": 22,
   "metadata": {},
   "outputs": [],
   "source": [
    "data_test = []\n",
    "label_test = []"
   ]
  },
  {
   "cell_type": "code",
   "execution_count": 23,
   "metadata": {},
   "outputs": [],
   "source": [
    "for imagePath in imagePaths_test:\n",
    "\n",
    "    image = cv2.imread(imagePath)\n",
    "    image = np.array(cv2.resize(image, (height, width)))\n",
    "    data_test.append(image)\n",
    "\n",
    "    label = imagePath.split(os.path.sep)[-2]\n",
    "    label_test.append(label)"
   ]
  },
  {
   "cell_type": "code",
   "execution_count": 24,
   "metadata": {},
   "outputs": [],
   "source": [
    "data_test = np.array(data_test, dtype=\"float\") / 255.0\n",
    "label_test = np.array(label_test)"
   ]
  },
  {
   "cell_type": "code",
   "execution_count": 25,
   "metadata": {},
   "outputs": [],
   "source": [
    "predictions = []"
   ]
  },
  {
   "cell_type": "code",
   "execution_count": 26,
   "metadata": {},
   "outputs": [],
   "source": [
    "def predict(image, \n",
    "            model_architecture = model_architecture, \n",
    "            path_model_weight = weight_path):\n",
    "\n",
    "    # Getting the model's architecture\n",
    "    model = model_architecture\n",
    "    # Loading the weights from the file\n",
    "    model.load_weights(path_model_weight)\n",
    "    # Predicting\n",
    "    pred = model.predict(image)\n",
    "    for_df = [pred[0][0], pred[0][1]]\n",
    "    predictions.append(for_df)\n",
    "    if np.argmax(pred) == 0:\n",
    "        return [1., 0.]\n",
    "    elif np.argmax(pred) == 1:\n",
    "        return [0., 1.]"
   ]
  },
  {
   "cell_type": "code",
   "execution_count": 27,
   "metadata": {},
   "outputs": [],
   "source": [
    "y_test_pred = lb.transform(label_test)\n",
    "y_true = to_categorical(y_test_pred)\n",
    "\n",
    "number_test = len(data_test)"
   ]
  },
  {
   "cell_type": "markdown",
   "metadata": {},
   "source": [
    "## 4. Evaluating the model"
   ]
  },
  {
   "cell_type": "code",
   "execution_count": 28,
   "metadata": {},
   "outputs": [],
   "source": [
    "def compute_roc(y_true, y_score):\n",
    "    \n",
    "    # Computing ROC curve and area\n",
    "    \n",
    "    false_positive_rate, true_positive_rate, thresholds = roc_curve(y_true, y_score) \n",
    "    auroc = auc(false_positive_rate, true_positive_rate) \n",
    "    return false_positive_rate, true_positive_rate, auroc"
   ]
  },
  {
   "cell_type": "code",
   "execution_count": 29,
   "metadata": {},
   "outputs": [],
   "source": [
    "def plot_roc(y_true, y_score):\n",
    "\n",
    "    # Ploting ROC curve\n",
    " \n",
    "    false_positive_rate, true_positive_rate, auroc = compute_roc(y_true, y_score)\n",
    "    plt.figure(figsize=(10,6))\n",
    "    plt.grid()\n",
    "    plt.plot(false_positive_rate, \n",
    "             true_positive_rate, \n",
    "             color='darkorange',\n",
    "             lw=2, \n",
    "             label='ROC curve (area = {:.2f})'.format(auroc))\n",
    "    plt.plot([0, 1], [0, 1], color='navy', lw=2, linestyle='--')\n",
    "    plt.xlim([0.0, 1.0])\n",
    "    plt.ylim([0.0, 1.05])\n",
    "    plt.xlabel('False Positive Rate', fontsize=12)\n",
    "    plt.ylabel('True Positive Rate', fontsize=12)\n",
    "    plt.title('Receiver operating characteristic example', fontsize=15)\n",
    "    plt.legend(loc=\"lower right\", fontsize=14)\n",
    "    plt.show()\n",
    "    \n",
    "plt.style.use(\"seaborn-white\")"
   ]
  },
  {
   "cell_type": "markdown",
   "metadata": {},
   "source": [
    "#### Inception"
   ]
  },
  {
   "cell_type": "code",
   "execution_count": 30,
   "metadata": {},
   "outputs": [],
   "source": [
    "weight_path = \"./Saved_models/weights.best.inception.hdf5\""
   ]
  },
  {
   "cell_type": "code",
   "execution_count": 31,
   "metadata": {},
   "outputs": [],
   "source": [
    "y_score_incep = []\n",
    "for index in range(number_test):\n",
    "    probs = predict(image = np.expand_dims(data_test[index], axis=0), model_architecture = inception_model, \n",
    "            path_model_weight = weight_path)\n",
    "    y_score_incep.append(probs)\n",
    "    \n",
    "correct = np.array(y_true) == np.array(y_score_incep)"
   ]
  },
  {
   "cell_type": "code",
   "execution_count": 32,
   "metadata": {},
   "outputs": [],
   "source": [
    "df_correct = pd.DataFrame(y_score_incep, columns = [\"Non-melanoma_real\",\"Melanoma_real\"])\n",
    "df_prediction_incep = pd.DataFrame(predictions, columns = [\"Non-melanoma_prediction\",\"Melanoma_prediction\"])\n",
    "df_merged=pd.concat([df_correct, df_prediction_incep],axis=1)"
   ]
  },
  {
   "cell_type": "code",
   "execution_count": 33,
   "metadata": {},
   "outputs": [
    {
     "data": {
      "text/html": [
       "<div>\n",
       "<style scoped>\n",
       "    .dataframe tbody tr th:only-of-type {\n",
       "        vertical-align: middle;\n",
       "    }\n",
       "\n",
       "    .dataframe tbody tr th {\n",
       "        vertical-align: top;\n",
       "    }\n",
       "\n",
       "    .dataframe thead th {\n",
       "        text-align: right;\n",
       "    }\n",
       "</style>\n",
       "<table border=\"1\" class=\"dataframe\">\n",
       "  <thead>\n",
       "    <tr style=\"text-align: right;\">\n",
       "      <th></th>\n",
       "      <th>Non-melanoma_real</th>\n",
       "      <th>Melanoma_real</th>\n",
       "      <th>Non-melanoma_prediction</th>\n",
       "      <th>Melanoma_prediction</th>\n",
       "    </tr>\n",
       "  </thead>\n",
       "  <tbody>\n",
       "    <tr>\n",
       "      <th>0</th>\n",
       "      <td>1.0</td>\n",
       "      <td>0.0</td>\n",
       "      <td>0.995989</td>\n",
       "      <td>0.004011</td>\n",
       "    </tr>\n",
       "    <tr>\n",
       "      <th>1</th>\n",
       "      <td>1.0</td>\n",
       "      <td>0.0</td>\n",
       "      <td>0.996629</td>\n",
       "      <td>0.003371</td>\n",
       "    </tr>\n",
       "    <tr>\n",
       "      <th>2</th>\n",
       "      <td>0.0</td>\n",
       "      <td>1.0</td>\n",
       "      <td>0.173423</td>\n",
       "      <td>0.826577</td>\n",
       "    </tr>\n",
       "    <tr>\n",
       "      <th>3</th>\n",
       "      <td>1.0</td>\n",
       "      <td>0.0</td>\n",
       "      <td>0.990497</td>\n",
       "      <td>0.009503</td>\n",
       "    </tr>\n",
       "    <tr>\n",
       "      <th>4</th>\n",
       "      <td>1.0</td>\n",
       "      <td>0.0</td>\n",
       "      <td>0.994566</td>\n",
       "      <td>0.005434</td>\n",
       "    </tr>\n",
       "    <tr>\n",
       "      <th>5</th>\n",
       "      <td>1.0</td>\n",
       "      <td>0.0</td>\n",
       "      <td>0.994781</td>\n",
       "      <td>0.005219</td>\n",
       "    </tr>\n",
       "    <tr>\n",
       "      <th>6</th>\n",
       "      <td>1.0</td>\n",
       "      <td>0.0</td>\n",
       "      <td>0.993788</td>\n",
       "      <td>0.006212</td>\n",
       "    </tr>\n",
       "    <tr>\n",
       "      <th>7</th>\n",
       "      <td>1.0</td>\n",
       "      <td>0.0</td>\n",
       "      <td>0.651891</td>\n",
       "      <td>0.348110</td>\n",
       "    </tr>\n",
       "    <tr>\n",
       "      <th>8</th>\n",
       "      <td>1.0</td>\n",
       "      <td>0.0</td>\n",
       "      <td>0.994770</td>\n",
       "      <td>0.005229</td>\n",
       "    </tr>\n",
       "    <tr>\n",
       "      <th>9</th>\n",
       "      <td>1.0</td>\n",
       "      <td>0.0</td>\n",
       "      <td>0.641486</td>\n",
       "      <td>0.358514</td>\n",
       "    </tr>\n",
       "  </tbody>\n",
       "</table>\n",
       "</div>"
      ],
      "text/plain": [
       "   Non-melanoma_real  Melanoma_real  Non-melanoma_prediction  \\\n",
       "0                1.0            0.0                 0.995989   \n",
       "1                1.0            0.0                 0.996629   \n",
       "2                0.0            1.0                 0.173423   \n",
       "3                1.0            0.0                 0.990497   \n",
       "4                1.0            0.0                 0.994566   \n",
       "5                1.0            0.0                 0.994781   \n",
       "6                1.0            0.0                 0.993788   \n",
       "7                1.0            0.0                 0.651891   \n",
       "8                1.0            0.0                 0.994770   \n",
       "9                1.0            0.0                 0.641486   \n",
       "\n",
       "   Melanoma_prediction  \n",
       "0             0.004011  \n",
       "1             0.003371  \n",
       "2             0.826577  \n",
       "3             0.009503  \n",
       "4             0.005434  \n",
       "5             0.005219  \n",
       "6             0.006212  \n",
       "7             0.348110  \n",
       "8             0.005229  \n",
       "9             0.358514  "
      ]
     },
     "execution_count": 33,
     "metadata": {},
     "output_type": "execute_result"
    }
   ],
   "source": [
    "df_merged.head(10)"
   ]
  },
  {
   "cell_type": "code",
   "execution_count": 34,
   "metadata": {},
   "outputs": [
    {
     "name": "stdout",
     "output_type": "stream",
     "text": [
      "Accuracy = 81.50%\n"
     ]
    }
   ],
   "source": [
    "print(\"Accuracy = %2.2f%%\" % (np.mean(correct)*100))"
   ]
  },
  {
   "cell_type": "code",
   "execution_count": 35,
   "metadata": {},
   "outputs": [
    {
     "data": {
      "image/png": "[encoded data removed]",
      "text/plain": [
       "<Figure size 720x432 with 1 Axes>"
      ]
     },
     "metadata": {},
     "output_type": "display_data"
    }
   ],
   "source": [
    "# Re-ordering the actual y (for ROC)\n",
    "y_true_2 = []\n",
    "for i in range(len(y_true)):\n",
    "    y_true_2.append(y_true[i][0])\n",
    "    \n",
    "y_score_2 = []\n",
    "for i in range(len(y_score_incep)):\n",
    "    y_score_2.append(y_score_incep[i][0])\n",
    "\n",
    "plot_roc(y_true_2, y_score_2)"
   ]
  },
  {
   "cell_type": "code",
   "execution_count": 36,
   "metadata": {},
   "outputs": [],
   "source": [
    "def positive_negative_measurement(y_true, y_score_incep):\n",
    "    # Initialization\n",
    "    TRUE_POSITIVE = 0\n",
    "    FALSE_POSITIVE = 0\n",
    "    TRUE_NEGATIVE = 0\n",
    "    FALSE_NEGATIVE = 0\n",
    "    \n",
    "    # Calculating the model\n",
    "    for i in range(len(y_score_incep)):\n",
    "        if y_true[i] == y_score_incep[i] == 1:\n",
    "            TRUE_POSITIVE += 1\n",
    "        if (y_score_incep[i] == 1) and (y_true[i] != y_score_incep[i]):\n",
    "            FALSE_POSITIVE += 1\n",
    "        if y_true[i] == y_score_incep[i] == 0:\n",
    "            TRUE_NEGATIVE += 1\n",
    "        if (y_score_incep[i] == 0) and (y_true[i] != y_score_incep[i]):\n",
    "            FALSE_NEGATIVE += 1\n",
    "\n",
    "    return(TRUE_POSITIVE, FALSE_POSITIVE, TRUE_NEGATIVE, FALSE_NEGATIVE)"
   ]
  },
  {
   "cell_type": "code",
   "execution_count": 37,
   "metadata": {},
   "outputs": [],
   "source": [
    "TRUE_POSITIVE, FALSE_POSITIVE, TRUE_NEGATIVE, FALSE_NEGATIVE = positive_negative_measurement(y_true_2, y_score_2)\n",
    "postives_negatives = [[TRUE_POSITIVE, FALSE_POSITIVE], \n",
    "                      [FALSE_NEGATIVE, TRUE_NEGATIVE]]"
   ]
  },
  {
   "cell_type": "code",
   "execution_count": 38,
   "metadata": {},
   "outputs": [
    {
     "data": {
      "text/plain": [
       "<matplotlib.axes._subplots.AxesSubplot at 0x2d7479d5ec8>"
      ]
     },
     "execution_count": 38,
     "metadata": {},
     "output_type": "execute_result"
    },
    {
     "data": {
      "image/png": "[encoded data removed]",
      "text/plain": [
       "<Figure size 936x720 with 2 Axes>"
      ]
     },
     "metadata": {},
     "output_type": "display_data"
    }
   ],
   "source": [
    "import seaborn as sns\n",
    "sns.set()\n",
    "labels =  np.array([['True positive: ' + str(TRUE_POSITIVE),\n",
    "                     'False positive: ' + str(FALSE_POSITIVE)],\n",
    "                    ['False negative: ' + str(FALSE_NEGATIVE),\n",
    "                     'True negative: ' + str(TRUE_NEGATIVE)]])\n",
    "plt.figure(figsize = (13, 10))\n",
    "sns.heatmap(postives_negatives, annot = labels, linewidths = 0.1, fmt=\"\", cmap = 'RdYlGn', annot_kws={\"size\":32})"
   ]
  },
  {
   "cell_type": "code",
   "execution_count": 39,
   "metadata": {},
   "outputs": [],
   "source": [
    "sensitivity = TRUE_POSITIVE / (TRUE_POSITIVE + FALSE_NEGATIVE)\n",
    "specifity = TRUE_NEGATIVE / (TRUE_NEGATIVE + FALSE_NEGATIVE)\n",
    "precision = TRUE_POSITIVE / (TRUE_POSITIVE + FALSE_POSITIVE)\n",
    "accuracy = (TRUE_POSITIVE + TRUE_NEGATIVE) / (TRUE_POSITIVE + FALSE_POSITIVE + TRUE_NEGATIVE + FALSE_NEGATIVE)\n",
    "name = \"Inception\"\n",
    "scores_incep = [name, sensitivity, specifity, precision, accuracy]"
   ]
  },
  {
   "cell_type": "code",
   "execution_count": 40,
   "metadata": {},
   "outputs": [
    {
     "data": {
      "text/html": [
       "<div>\n",
       "<style scoped>\n",
       "    .dataframe tbody tr th:only-of-type {\n",
       "        vertical-align: middle;\n",
       "    }\n",
       "\n",
       "    .dataframe tbody tr th {\n",
       "        vertical-align: top;\n",
       "    }\n",
       "\n",
       "    .dataframe thead th {\n",
       "        text-align: right;\n",
       "    }\n",
       "</style>\n",
       "<table border=\"1\" class=\"dataframe\">\n",
       "  <thead>\n",
       "    <tr style=\"text-align: right;\">\n",
       "      <th></th>\n",
       "      <th>Model</th>\n",
       "      <th>Sensitivity</th>\n",
       "      <th>Specifity</th>\n",
       "      <th>Precision</th>\n",
       "      <th>Accuracy</th>\n",
       "    </tr>\n",
       "  </thead>\n",
       "  <tbody>\n",
       "    <tr>\n",
       "      <th>0</th>\n",
       "      <td>Inception</td>\n",
       "      <td>0.83</td>\n",
       "      <td>0.824742</td>\n",
       "      <td>0.805825</td>\n",
       "      <td>0.815</td>\n",
       "    </tr>\n",
       "  </tbody>\n",
       "</table>\n",
       "</div>"
      ],
      "text/plain": [
       "       Model  Sensitivity  Specifity  Precision  Accuracy\n",
       "0  Inception         0.83   0.824742   0.805825     0.815"
      ]
     },
     "execution_count": 40,
     "metadata": {},
     "output_type": "execute_result"
    }
   ],
   "source": [
    "df_scores_incep = pd.DataFrame([scores_incep], columns = [\"Model\",  \"Sensitivity\",  \"Specifity\",  \"Precision\", \"Accuracy\"])\n",
    "df_scores_incep"
   ]
  },
  {
   "cell_type": "markdown",
   "metadata": {},
   "source": [
    "#### MobileNet"
   ]
  },
  {
   "cell_type": "code",
   "execution_count": 41,
   "metadata": {},
   "outputs": [],
   "source": [
    "weight_path = \"./Saved_models/weights.best.mobilenet.hdf5\""
   ]
  },
  {
   "cell_type": "code",
   "execution_count": 42,
   "metadata": {},
   "outputs": [],
   "source": [
    "y_score_mobnet = []\n",
    "for index in range(number_test):\n",
    "    probs = predict(image = np.expand_dims(data_test[index], axis=0), model_architecture = mobilenet_model, \n",
    "            path_model_weight = weight_path)\n",
    "    y_score_mobnet.append(probs)\n",
    "    \n",
    "correct = np.array(y_true) == np.array(y_score_mobnet)"
   ]
  },
  {
   "cell_type": "code",
   "execution_count": 43,
   "metadata": {},
   "outputs": [],
   "source": [
    "df_correct = pd.DataFrame(y_score_mobnet, columns = [\"Non-melanoma_real\",\"Melanoma_real\"])\n",
    "df_prediction_mobnet = pd.DataFrame(predictions, columns = [\"Non-melanoma_prediction\",\"Melanoma_prediction\"])\n",
    "df_merged=pd.concat([df_correct, df_prediction_mobnet],axis=1)"
   ]
  },
  {
   "cell_type": "code",
   "execution_count": 44,
   "metadata": {},
   "outputs": [
    {
     "data": {
      "text/html": [
       "<div>\n",
       "<style scoped>\n",
       "    .dataframe tbody tr th:only-of-type {\n",
       "        vertical-align: middle;\n",
       "    }\n",
       "\n",
       "    .dataframe tbody tr th {\n",
       "        vertical-align: top;\n",
       "    }\n",
       "\n",
       "    .dataframe thead th {\n",
       "        text-align: right;\n",
       "    }\n",
       "</style>\n",
       "<table border=\"1\" class=\"dataframe\">\n",
       "  <thead>\n",
       "    <tr style=\"text-align: right;\">\n",
       "      <th></th>\n",
       "      <th>Non-melanoma_real</th>\n",
       "      <th>Melanoma_real</th>\n",
       "      <th>Non-melanoma_prediction</th>\n",
       "      <th>Melanoma_prediction</th>\n",
       "    </tr>\n",
       "  </thead>\n",
       "  <tbody>\n",
       "    <tr>\n",
       "      <th>0</th>\n",
       "      <td>1.0</td>\n",
       "      <td>0.0</td>\n",
       "      <td>0.995989</td>\n",
       "      <td>0.004011</td>\n",
       "    </tr>\n",
       "    <tr>\n",
       "      <th>1</th>\n",
       "      <td>1.0</td>\n",
       "      <td>0.0</td>\n",
       "      <td>0.996629</td>\n",
       "      <td>0.003371</td>\n",
       "    </tr>\n",
       "    <tr>\n",
       "      <th>2</th>\n",
       "      <td>0.0</td>\n",
       "      <td>1.0</td>\n",
       "      <td>0.173423</td>\n",
       "      <td>0.826577</td>\n",
       "    </tr>\n",
       "    <tr>\n",
       "      <th>3</th>\n",
       "      <td>1.0</td>\n",
       "      <td>0.0</td>\n",
       "      <td>0.990497</td>\n",
       "      <td>0.009503</td>\n",
       "    </tr>\n",
       "    <tr>\n",
       "      <th>4</th>\n",
       "      <td>1.0</td>\n",
       "      <td>0.0</td>\n",
       "      <td>0.994566</td>\n",
       "      <td>0.005434</td>\n",
       "    </tr>\n",
       "    <tr>\n",
       "      <th>5</th>\n",
       "      <td>1.0</td>\n",
       "      <td>0.0</td>\n",
       "      <td>0.994781</td>\n",
       "      <td>0.005219</td>\n",
       "    </tr>\n",
       "    <tr>\n",
       "      <th>6</th>\n",
       "      <td>1.0</td>\n",
       "      <td>0.0</td>\n",
       "      <td>0.993788</td>\n",
       "      <td>0.006212</td>\n",
       "    </tr>\n",
       "    <tr>\n",
       "      <th>7</th>\n",
       "      <td>1.0</td>\n",
       "      <td>0.0</td>\n",
       "      <td>0.651891</td>\n",
       "      <td>0.348110</td>\n",
       "    </tr>\n",
       "    <tr>\n",
       "      <th>8</th>\n",
       "      <td>1.0</td>\n",
       "      <td>0.0</td>\n",
       "      <td>0.994770</td>\n",
       "      <td>0.005229</td>\n",
       "    </tr>\n",
       "    <tr>\n",
       "      <th>9</th>\n",
       "      <td>1.0</td>\n",
       "      <td>0.0</td>\n",
       "      <td>0.641486</td>\n",
       "      <td>0.358514</td>\n",
       "    </tr>\n",
       "  </tbody>\n",
       "</table>\n",
       "</div>"
      ],
      "text/plain": [
       "   Non-melanoma_real  Melanoma_real  Non-melanoma_prediction  \\\n",
       "0                1.0            0.0                 0.995989   \n",
       "1                1.0            0.0                 0.996629   \n",
       "2                0.0            1.0                 0.173423   \n",
       "3                1.0            0.0                 0.990497   \n",
       "4                1.0            0.0                 0.994566   \n",
       "5                1.0            0.0                 0.994781   \n",
       "6                1.0            0.0                 0.993788   \n",
       "7                1.0            0.0                 0.651891   \n",
       "8                1.0            0.0                 0.994770   \n",
       "9                1.0            0.0                 0.641486   \n",
       "\n",
       "   Melanoma_prediction  \n",
       "0             0.004011  \n",
       "1             0.003371  \n",
       "2             0.826577  \n",
       "3             0.009503  \n",
       "4             0.005434  \n",
       "5             0.005219  \n",
       "6             0.006212  \n",
       "7             0.348110  \n",
       "8             0.005229  \n",
       "9             0.358514  "
      ]
     },
     "execution_count": 44,
     "metadata": {},
     "output_type": "execute_result"
    }
   ],
   "source": [
    "df_merged.head(10)"
   ]
  },
  {
   "cell_type": "code",
   "execution_count": 45,
   "metadata": {},
   "outputs": [
    {
     "name": "stdout",
     "output_type": "stream",
     "text": [
      "Accuracy = 74.50%\n"
     ]
    }
   ],
   "source": [
    "print(\"Accuracy = %2.2f%%\" % (np.mean(correct)*100))"
   ]
  },
  {
   "cell_type": "code",
   "execution_count": 46,
   "metadata": {},
   "outputs": [
    {
     "data": {
      "image/png": "[encoded data removed]",
      "text/plain": [
       "<Figure size 720x432 with 1 Axes>"
      ]
     },
     "metadata": {},
     "output_type": "display_data"
    }
   ],
   "source": [
    "# Re-ordering the actual y (for ROC)\n",
    "y_true_2 = []\n",
    "for i in range(len(y_true)):\n",
    "    y_true_2.append(y_true[i][0])\n",
    "    \n",
    "y_score_2 = []\n",
    "for i in range(len(y_score_mobnet)):\n",
    "    y_score_2.append(y_score_mobnet[i][0])\n",
    "\n",
    "plot_roc(y_true_2, y_score_2)"
   ]
  },
  {
   "cell_type": "code",
   "execution_count": 47,
   "metadata": {},
   "outputs": [],
   "source": [
    "def positive_negative_measurement(y_true, y_score_mobnet):\n",
    "    # Initialization\n",
    "    TRUE_POSITIVE = 0\n",
    "    FALSE_POSITIVE = 0\n",
    "    TRUE_NEGATIVE = 0\n",
    "    FALSE_NEGATIVE = 0\n",
    "    \n",
    "    # Calculating the model\n",
    "    for i in range(len(y_score_mobnet)):\n",
    "        if y_true[i] == y_score_mobnet[i] == 1:\n",
    "            TRUE_POSITIVE += 1\n",
    "        if (y_score_mobnet[i] == 1) and (y_true[i] != y_score_mobnet[i]):\n",
    "            FALSE_POSITIVE += 1\n",
    "        if y_true[i] == y_score_mobnet[i] == 0:\n",
    "            TRUE_NEGATIVE += 1\n",
    "        if (y_score_mobnet[i] == 0) and (y_true[i] != y_score_mobnet[i]):\n",
    "            FALSE_NEGATIVE += 1\n",
    "\n",
    "    return(TRUE_POSITIVE, FALSE_POSITIVE, TRUE_NEGATIVE, FALSE_NEGATIVE)"
   ]
  },
  {
   "cell_type": "code",
   "execution_count": 48,
   "metadata": {},
   "outputs": [],
   "source": [
    "TRUE_POSITIVE, FALSE_POSITIVE, TRUE_NEGATIVE, FALSE_NEGATIVE = positive_negative_measurement(y_true_2, y_score_2)\n",
    "postives_negatives = [[TRUE_POSITIVE, FALSE_POSITIVE], \n",
    "                      [FALSE_NEGATIVE, TRUE_NEGATIVE]]"
   ]
  },
  {
   "cell_type": "code",
   "execution_count": 49,
   "metadata": {
    "scrolled": true
   },
   "outputs": [
    {
     "data": {
      "text/plain": [
       "<matplotlib.axes._subplots.AxesSubplot at 0x2d740e16848>"
      ]
     },
     "execution_count": 49,
     "metadata": {},
     "output_type": "execute_result"
    },
    {
     "data": {
      "image/png": "[encoded data removed]",
      "text/plain": [
       "<Figure size 936x720 with 2 Axes>"
      ]
     },
     "metadata": {},
     "output_type": "display_data"
    }
   ],
   "source": [
    "import seaborn as sns\n",
    "sns.set()\n",
    "labels =  np.array([['True positive: ' + str(TRUE_POSITIVE),\n",
    "                     'False positive: ' + str(FALSE_POSITIVE)],\n",
    "                    ['False negative: ' + str(FALSE_NEGATIVE),\n",
    "                     'True negative: ' + str(TRUE_NEGATIVE)]])\n",
    "plt.figure(figsize = (13, 10))\n",
    "sns.heatmap(postives_negatives, annot = labels, linewidths = 0.1, fmt=\"\", cmap = 'RdYlGn', annot_kws={\"size\":32})"
   ]
  },
  {
   "cell_type": "code",
   "execution_count": 50,
   "metadata": {},
   "outputs": [],
   "source": [
    "sensitivity = TRUE_POSITIVE / (TRUE_POSITIVE + FALSE_NEGATIVE)\n",
    "specifity = TRUE_NEGATIVE / (TRUE_NEGATIVE + FALSE_NEGATIVE)\n",
    "precision = TRUE_POSITIVE / (TRUE_POSITIVE + FALSE_POSITIVE)\n",
    "accuracy = (TRUE_POSITIVE + TRUE_NEGATIVE) / (TRUE_POSITIVE + FALSE_POSITIVE + TRUE_NEGATIVE + FALSE_NEGATIVE)\n",
    "name = \"MobileNet\"\n",
    "scores_mob = [name, sensitivity, specifity, precision, accuracy]"
   ]
  },
  {
   "cell_type": "code",
   "execution_count": 51,
   "metadata": {
    "scrolled": true
   },
   "outputs": [
    {
     "data": {
      "text/html": [
       "<div>\n",
       "<style scoped>\n",
       "    .dataframe tbody tr th:only-of-type {\n",
       "        vertical-align: middle;\n",
       "    }\n",
       "\n",
       "    .dataframe tbody tr th {\n",
       "        vertical-align: top;\n",
       "    }\n",
       "\n",
       "    .dataframe thead th {\n",
       "        text-align: right;\n",
       "    }\n",
       "</style>\n",
       "<table border=\"1\" class=\"dataframe\">\n",
       "  <thead>\n",
       "    <tr style=\"text-align: right;\">\n",
       "      <th></th>\n",
       "      <th>Model</th>\n",
       "      <th>Sensitivity</th>\n",
       "      <th>Specifity</th>\n",
       "      <th>Precision</th>\n",
       "      <th>Accuracy</th>\n",
       "    </tr>\n",
       "  </thead>\n",
       "  <tbody>\n",
       "    <tr>\n",
       "      <th>0</th>\n",
       "      <td>MobileNet</td>\n",
       "      <td>0.86</td>\n",
       "      <td>0.818182</td>\n",
       "      <td>0.699187</td>\n",
       "      <td>0.745</td>\n",
       "    </tr>\n",
       "  </tbody>\n",
       "</table>\n",
       "</div>"
      ],
      "text/plain": [
       "       Model  Sensitivity  Specifity  Precision  Accuracy\n",
       "0  MobileNet         0.86   0.818182   0.699187     0.745"
      ]
     },
     "execution_count": 51,
     "metadata": {},
     "output_type": "execute_result"
    }
   ],
   "source": [
    "df_scores_mob = pd.DataFrame([scores_mob], columns = [\"Model\",  \"Sensitivity\",  \"Specifity\",  \"Precision\", \"Accuracy\"])\n",
    "df_scores_mob"
   ]
  },
  {
   "cell_type": "code",
   "execution_count": null,
   "metadata": {},
   "outputs": [],
   "source": []
  },
  {
   "cell_type": "markdown",
   "metadata": {},
   "source": [
    "#### Xception"
   ]
  },
  {
   "cell_type": "code",
   "execution_count": 52,
   "metadata": {},
   "outputs": [],
   "source": [
    "weight_path = 'Saved_models/weights.best.xception.hdf5'"
   ]
  },
  {
   "cell_type": "code",
   "execution_count": 53,
   "metadata": {},
   "outputs": [],
   "source": [
    "y_score_xcep = []\n",
    "for index in range(number_test): #compute one at a time due to memory constraints\n",
    "    probs = predict(image = np.expand_dims(data_test[index], axis=0), model_architecture = xception_model, \n",
    "            path_model_weight = weight_path)\n",
    "    y_score_xcep.append(probs)\n",
    "    \n",
    "correct = np.array(y_true) == np.array(y_score_xcep)"
   ]
  },
  {
   "cell_type": "code",
   "execution_count": 54,
   "metadata": {},
   "outputs": [],
   "source": [
    "df_correct = pd.DataFrame(y_score_xcep, columns = [\"Non-melanoma_real\",\"Melanoma_real\"])\n",
    "df_prediction_xcep = pd.DataFrame(predictions, columns = [\"Non-melanoma_prediction\",\"Melanoma_prediction\"])\n",
    "df_merged=pd.concat([df_correct, df_prediction_xcep],axis=1)"
   ]
  },
  {
   "cell_type": "code",
   "execution_count": 55,
   "metadata": {},
   "outputs": [
    {
     "data": {
      "text/html": [
       "<div>\n",
       "<style scoped>\n",
       "    .dataframe tbody tr th:only-of-type {\n",
       "        vertical-align: middle;\n",
       "    }\n",
       "\n",
       "    .dataframe tbody tr th {\n",
       "        vertical-align: top;\n",
       "    }\n",
       "\n",
       "    .dataframe thead th {\n",
       "        text-align: right;\n",
       "    }\n",
       "</style>\n",
       "<table border=\"1\" class=\"dataframe\">\n",
       "  <thead>\n",
       "    <tr style=\"text-align: right;\">\n",
       "      <th></th>\n",
       "      <th>Non-melanoma_real</th>\n",
       "      <th>Melanoma_real</th>\n",
       "      <th>Non-melanoma_prediction</th>\n",
       "      <th>Melanoma_prediction</th>\n",
       "    </tr>\n",
       "  </thead>\n",
       "  <tbody>\n",
       "    <tr>\n",
       "      <th>0</th>\n",
       "      <td>1.0</td>\n",
       "      <td>0.0</td>\n",
       "      <td>0.995989</td>\n",
       "      <td>0.004011</td>\n",
       "    </tr>\n",
       "    <tr>\n",
       "      <th>1</th>\n",
       "      <td>1.0</td>\n",
       "      <td>0.0</td>\n",
       "      <td>0.996629</td>\n",
       "      <td>0.003371</td>\n",
       "    </tr>\n",
       "    <tr>\n",
       "      <th>2</th>\n",
       "      <td>1.0</td>\n",
       "      <td>0.0</td>\n",
       "      <td>0.173423</td>\n",
       "      <td>0.826577</td>\n",
       "    </tr>\n",
       "    <tr>\n",
       "      <th>3</th>\n",
       "      <td>0.0</td>\n",
       "      <td>1.0</td>\n",
       "      <td>0.990497</td>\n",
       "      <td>0.009503</td>\n",
       "    </tr>\n",
       "    <tr>\n",
       "      <th>4</th>\n",
       "      <td>1.0</td>\n",
       "      <td>0.0</td>\n",
       "      <td>0.994566</td>\n",
       "      <td>0.005434</td>\n",
       "    </tr>\n",
       "    <tr>\n",
       "      <th>5</th>\n",
       "      <td>1.0</td>\n",
       "      <td>0.0</td>\n",
       "      <td>0.994781</td>\n",
       "      <td>0.005219</td>\n",
       "    </tr>\n",
       "    <tr>\n",
       "      <th>6</th>\n",
       "      <td>1.0</td>\n",
       "      <td>0.0</td>\n",
       "      <td>0.993788</td>\n",
       "      <td>0.006212</td>\n",
       "    </tr>\n",
       "    <tr>\n",
       "      <th>7</th>\n",
       "      <td>1.0</td>\n",
       "      <td>0.0</td>\n",
       "      <td>0.651891</td>\n",
       "      <td>0.348110</td>\n",
       "    </tr>\n",
       "    <tr>\n",
       "      <th>8</th>\n",
       "      <td>1.0</td>\n",
       "      <td>0.0</td>\n",
       "      <td>0.994770</td>\n",
       "      <td>0.005229</td>\n",
       "    </tr>\n",
       "    <tr>\n",
       "      <th>9</th>\n",
       "      <td>1.0</td>\n",
       "      <td>0.0</td>\n",
       "      <td>0.641486</td>\n",
       "      <td>0.358514</td>\n",
       "    </tr>\n",
       "  </tbody>\n",
       "</table>\n",
       "</div>"
      ],
      "text/plain": [
       "   Non-melanoma_real  Melanoma_real  Non-melanoma_prediction  \\\n",
       "0                1.0            0.0                 0.995989   \n",
       "1                1.0            0.0                 0.996629   \n",
       "2                1.0            0.0                 0.173423   \n",
       "3                0.0            1.0                 0.990497   \n",
       "4                1.0            0.0                 0.994566   \n",
       "5                1.0            0.0                 0.994781   \n",
       "6                1.0            0.0                 0.993788   \n",
       "7                1.0            0.0                 0.651891   \n",
       "8                1.0            0.0                 0.994770   \n",
       "9                1.0            0.0                 0.641486   \n",
       "\n",
       "   Melanoma_prediction  \n",
       "0             0.004011  \n",
       "1             0.003371  \n",
       "2             0.826577  \n",
       "3             0.009503  \n",
       "4             0.005434  \n",
       "5             0.005219  \n",
       "6             0.006212  \n",
       "7             0.348110  \n",
       "8             0.005229  \n",
       "9             0.358514  "
      ]
     },
     "execution_count": 55,
     "metadata": {},
     "output_type": "execute_result"
    }
   ],
   "source": [
    "df_merged.head(10)"
   ]
  },
  {
   "cell_type": "code",
   "execution_count": 56,
   "metadata": {},
   "outputs": [
    {
     "name": "stdout",
     "output_type": "stream",
     "text": [
      "Accuracy = 78.50%\n"
     ]
    }
   ],
   "source": [
    "print(\"Accuracy = %2.2f%%\" % (np.mean(correct)*100))"
   ]
  },
  {
   "cell_type": "code",
   "execution_count": 57,
   "metadata": {},
   "outputs": [
    {
     "data": {
      "image/png": "[encoded data removed]",
      "text/plain": [
       "<Figure size 720x432 with 1 Axes>"
      ]
     },
     "metadata": {},
     "output_type": "display_data"
    }
   ],
   "source": [
    "# Re-ordering the actual y (for ROC)\n",
    "y_true_2 = []\n",
    "for i in range(len(y_true)):\n",
    "    y_true_2.append(y_true[i][0])\n",
    "    \n",
    "y_score_2 = []\n",
    "for i in range(len(y_score_xcep)):\n",
    "    y_score_2.append(y_score_xcep[i][0])\n",
    "\n",
    "plot_roc(y_true_2, y_score_2)"
   ]
  },
  {
   "cell_type": "code",
   "execution_count": 58,
   "metadata": {},
   "outputs": [],
   "source": [
    "def positive_negative_measurement(y_true, y_score_xcep):\n",
    "    # Initialization\n",
    "    TRUE_POSITIVE = 0\n",
    "    FALSE_POSITIVE = 0\n",
    "    TRUE_NEGATIVE = 0\n",
    "    FALSE_NEGATIVE = 0\n",
    "    \n",
    "    # Calculating the model\n",
    "    for i in range(len(y_score_xcep)):\n",
    "        if y_true[i] == y_score_xcep[i] == 1:\n",
    "            TRUE_POSITIVE += 1\n",
    "        if (y_score_xcep[i] == 1) and (y_true[i] != y_score_xcep[i]):\n",
    "            FALSE_POSITIVE += 1\n",
    "        if y_true[i] == y_score_xcep[i] == 0:\n",
    "            TRUE_NEGATIVE += 1\n",
    "        if (y_score_xcep[i] == 0) and (y_true[i] != y_score_xcep[i]):\n",
    "            FALSE_NEGATIVE += 1\n",
    "\n",
    "    return(TRUE_POSITIVE, FALSE_POSITIVE, TRUE_NEGATIVE, FALSE_NEGATIVE)"
   ]
  },
  {
   "cell_type": "code",
   "execution_count": 59,
   "metadata": {},
   "outputs": [],
   "source": [
    "TRUE_POSITIVE, FALSE_POSITIVE, TRUE_NEGATIVE, FALSE_NEGATIVE = positive_negative_measurement(y_true_2, y_score_2)\n",
    "postives_negatives = [[TRUE_POSITIVE, FALSE_POSITIVE], \n",
    "                      [FALSE_NEGATIVE, TRUE_NEGATIVE]]"
   ]
  },
  {
   "cell_type": "code",
   "execution_count": 60,
   "metadata": {
    "scrolled": true
   },
   "outputs": [
    {
     "data": {
      "text/plain": [
       "<matplotlib.axes._subplots.AxesSubplot at 0x2d7423cd248>"
      ]
     },
     "execution_count": 60,
     "metadata": {},
     "output_type": "execute_result"
    },
    {
     "data": {
      "image/png": "[encoded data removed]",
      "text/plain": [
       "<Figure size 936x720 with 2 Axes>"
      ]
     },
     "metadata": {},
     "output_type": "display_data"
    }
   ],
   "source": [
    "import seaborn as sns\n",
    "sns.set()\n",
    "labels =  np.array([['True positive: ' + str(TRUE_POSITIVE),\n",
    "                     'False positive: ' + str(FALSE_POSITIVE)],\n",
    "                    ['False negative: ' + str(FALSE_NEGATIVE),\n",
    "                     'True negative: ' + str(TRUE_NEGATIVE)]])\n",
    "plt.figure(figsize = (13, 10))\n",
    "sns.heatmap(postives_negatives, annot = labels, linewidths = 0.1, fmt=\"\", cmap = 'RdYlGn', annot_kws={\"size\":32})"
   ]
  },
  {
   "cell_type": "code",
   "execution_count": 61,
   "metadata": {},
   "outputs": [],
   "source": [
    "sensitivity = TRUE_POSITIVE / (TRUE_POSITIVE + FALSE_NEGATIVE)\n",
    "specifity = TRUE_NEGATIVE / (TRUE_NEGATIVE + FALSE_NEGATIVE)\n",
    "precision = TRUE_POSITIVE / (TRUE_POSITIVE + FALSE_POSITIVE)\n",
    "accuracy = (TRUE_POSITIVE + TRUE_NEGATIVE) / (TRUE_POSITIVE + FALSE_POSITIVE + TRUE_NEGATIVE + FALSE_NEGATIVE)\n",
    "name = \"Xception\"\n",
    "scores_xcep = [name, sensitivity, specifity, precision, accuracy]"
   ]
  },
  {
   "cell_type": "code",
   "execution_count": 62,
   "metadata": {},
   "outputs": [],
   "source": [
    "df_scores_xcep = pd.DataFrame([scores_xcep], columns = [\"Model\",  \"Sensitivity\",  \"Specifity\",  \"Precision\", \"Accuracy\"])"
   ]
  },
  {
   "cell_type": "code",
   "execution_count": 63,
   "metadata": {},
   "outputs": [],
   "source": [
    "scores_SNN = ['SNN', 0.9, 0.84127, 0.656934, 0.715]"
   ]
  },
  {
   "cell_type": "code",
   "execution_count": 64,
   "metadata": {},
   "outputs": [],
   "source": [
    "df_scores_SNN = pd.DataFrame([scores_SNN], columns = [\"Model\",  \"Sensitivity\",  \"Specifity\",  \"Precision\", \"Accuracy\"])"
   ]
  },
  {
   "cell_type": "code",
   "execution_count": 65,
   "metadata": {},
   "outputs": [],
   "source": [
    "scores_CNN = [\"CNN\", 0.83, 0.7875, 0.691667, 0.73]"
   ]
  },
  {
   "cell_type": "code",
   "execution_count": 66,
   "metadata": {},
   "outputs": [],
   "source": [
    "df_scores_CNN = pd.DataFrame([scores_CNN], columns = [\"Model\",  \"Sensitivity\",  \"Specifity\",  \"Precision\", \"Accuracy\"])"
   ]
  },
  {
   "cell_type": "code",
   "execution_count": 67,
   "metadata": {},
   "outputs": [],
   "source": [
    "df_scores = pd.concat([df_scores_SNN, df_scores_CNN, df_scores_incep, df_scores_mob, df_scores_xcep],axis=0)"
   ]
  },
  {
   "cell_type": "code",
   "execution_count": 68,
   "metadata": {},
   "outputs": [
    {
     "data": {
      "text/html": [
       "<div>\n",
       "<style scoped>\n",
       "    .dataframe tbody tr th:only-of-type {\n",
       "        vertical-align: middle;\n",
       "    }\n",
       "\n",
       "    .dataframe tbody tr th {\n",
       "        vertical-align: top;\n",
       "    }\n",
       "\n",
       "    .dataframe thead th {\n",
       "        text-align: right;\n",
       "    }\n",
       "</style>\n",
       "<table border=\"1\" class=\"dataframe\">\n",
       "  <thead>\n",
       "    <tr style=\"text-align: right;\">\n",
       "      <th></th>\n",
       "      <th>Model</th>\n",
       "      <th>Sensitivity</th>\n",
       "      <th>Specifity</th>\n",
       "      <th>Precision</th>\n",
       "      <th>Accuracy</th>\n",
       "    </tr>\n",
       "  </thead>\n",
       "  <tbody>\n",
       "    <tr>\n",
       "      <th>0</th>\n",
       "      <td>SNN</td>\n",
       "      <td>0.90</td>\n",
       "      <td>0.841270</td>\n",
       "      <td>0.656934</td>\n",
       "      <td>0.715</td>\n",
       "    </tr>\n",
       "    <tr>\n",
       "      <th>0</th>\n",
       "      <td>CNN</td>\n",
       "      <td>0.83</td>\n",
       "      <td>0.787500</td>\n",
       "      <td>0.691667</td>\n",
       "      <td>0.730</td>\n",
       "    </tr>\n",
       "    <tr>\n",
       "      <th>0</th>\n",
       "      <td>Inception</td>\n",
       "      <td>0.83</td>\n",
       "      <td>0.824742</td>\n",
       "      <td>0.805825</td>\n",
       "      <td>0.815</td>\n",
       "    </tr>\n",
       "    <tr>\n",
       "      <th>0</th>\n",
       "      <td>MobileNet</td>\n",
       "      <td>0.86</td>\n",
       "      <td>0.818182</td>\n",
       "      <td>0.699187</td>\n",
       "      <td>0.745</td>\n",
       "    </tr>\n",
       "    <tr>\n",
       "      <th>0</th>\n",
       "      <td>Xception</td>\n",
       "      <td>0.79</td>\n",
       "      <td>0.787879</td>\n",
       "      <td>0.782178</td>\n",
       "      <td>0.785</td>\n",
       "    </tr>\n",
       "  </tbody>\n",
       "</table>\n",
       "</div>"
      ],
      "text/plain": [
       "       Model  Sensitivity  Specifity  Precision  Accuracy\n",
       "0        SNN         0.90   0.841270   0.656934     0.715\n",
       "0        CNN         0.83   0.787500   0.691667     0.730\n",
       "0  Inception         0.83   0.824742   0.805825     0.815\n",
       "0  MobileNet         0.86   0.818182   0.699187     0.745\n",
       "0   Xception         0.79   0.787879   0.782178     0.785"
      ]
     },
     "execution_count": 68,
     "metadata": {},
     "output_type": "execute_result"
    }
   ],
   "source": [
    "df_scores"
   ]
  }
 ],
 "metadata": {
  "kernelspec": {
   "display_name": "Python 3",
   "language": "python",
   "name": "python3"
  },
  "language_info": {
   "codemirror_mode": {
    "name": "ipython",
    "version": 3
   },
   "file_extension": ".py",
   "mimetype": "text/x-python",
   "name": "python",
   "nbconvert_exporter": "python",
   "pygments_lexer": "ipython3",
   "version": "3.7.6"
  }
 },
 "nbformat": 4,
 "nbformat_minor": 4
}
