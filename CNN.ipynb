{
 "cells": [
  {
   "cell_type": "markdown",
   "metadata": {},
   "source": [
    "## Computer-Aided Melanoma detection using machine learning techniques"
   ]
  },
  {
   "cell_type": "markdown",
   "metadata": {},
   "source": [
    "## CNN experiment"
   ]
  },
  {
   "cell_type": "markdown",
   "metadata": {},
   "source": [
    "### 1. Preprocessing"
   ]
  },
  {
   "cell_type": "markdown",
   "metadata": {},
   "source": [
    "Importing the libraries"
   ]
  },
  {
   "cell_type": "code",
   "execution_count": 1,
   "metadata": {},
   "outputs": [
    {
     "name": "stderr",
     "output_type": "stream",
     "text": [
      "Using TensorFlow backend.\n"
     ]
    }
   ],
   "source": [
    "from sklearn.preprocessing import LabelBinarizer\n",
    "from sklearn.model_selection import train_test_split\n",
    "from sklearn.metrics import classification_report, roc_curve, auc\n",
    "from sklearn.metrics import mean_squared_error\n",
    "from keras.models import Sequential\n",
    "from keras.models import Model\n",
    "from keras.layers.core import Dense\n",
    "from keras.layers.core import Activation\n",
    "from keras.layers.core import Dropout\n",
    "from keras.optimizers import SGD\n",
    "from keras.layers.convolutional import Conv2D \n",
    "from keras.layers.convolutional import MaxPooling2D \n",
    "from keras.layers import Flatten \n",
    "from keras.layers.normalization import BatchNormalization\n",
    "from keras.preprocessing.image import ImageDataGenerator\n",
    "from keras.callbacks import ModelCheckpoint, TensorBoard\n",
    "from keras.utils import to_categorical\n",
    "from keras import backend as K\n",
    "from imutils import paths\n",
    "import matplotlib.pyplot as plt\n",
    "import numpy as np\n",
    "import pandas as pd\n",
    "import tqdm\n",
    "import argparse\n",
    "import random\n",
    "import pickle\n",
    "import cv2\n",
    "import os"
   ]
  },
  {
   "cell_type": "code",
   "execution_count": 2,
   "metadata": {},
   "outputs": [],
   "source": [
    "path = \"C:\\\\Users\\\\mreun\\\\Moles\""
   ]
  },
  {
   "cell_type": "code",
   "execution_count": 3,
   "metadata": {},
   "outputs": [],
   "source": [
    "# Let's define the size of imported images\n",
    "height = 256\n",
    "width = 256\n",
    "\n",
    "epoch = 25 #epoch number for training the model"
   ]
  },
  {
   "cell_type": "code",
   "execution_count": 4,
   "metadata": {},
   "outputs": [],
   "source": [
    "# Initializing data and labels\n",
    "data = []\n",
    "labels = []"
   ]
  },
  {
   "cell_type": "code",
   "execution_count": 5,
   "metadata": {},
   "outputs": [],
   "source": [
    "imagePaths = sorted(list(paths.list_images(path)))\n",
    "random.seed(42)\n",
    "random.shuffle(imagePaths)"
   ]
  },
  {
   "cell_type": "code",
   "execution_count": 6,
   "metadata": {},
   "outputs": [],
   "source": [
    "# Cycle for downloading images\n",
    "for imagePath in imagePaths:\n",
    "    # loading image, changing the size to 256x256 pixels \n",
    "    # adding to the list\n",
    "    image = cv2.imread(imagePath)\n",
    "    image = np.array(cv2.resize(image, (height, width)))\n",
    "    data.append(image)\n",
    "\n",
    "    # retrieving the label from the path \n",
    "    # adding to the list\n",
    "    label = imagePath.split(os.path.sep)[-2]\n",
    "    labels.append(label)"
   ]
  },
  {
   "cell_type": "code",
   "execution_count": 7,
   "metadata": {},
   "outputs": [],
   "source": [
    "# normalizing pixels to the range from 0 to 1\n",
    "data = np.array(data, dtype=\"float32\") / 255.0\n",
    "labels = np.array(labels)"
   ]
  },
  {
   "cell_type": "code",
   "execution_count": 8,
   "metadata": {},
   "outputs": [],
   "source": [
    "X_train, X_test, y_train, y_test = train_test_split(data, labels, test_size=0.2, random_state=42)"
   ]
  },
  {
   "cell_type": "code",
   "execution_count": 9,
   "metadata": {},
   "outputs": [],
   "source": [
    "# transforming labels into 0 and 1 and then to vectors\n",
    "\n",
    "lb = LabelBinarizer()\n",
    "y_train = lb.fit_transform(y_train)\n",
    "y_test = lb.transform(y_test)\n",
    "\n",
    "y_train = to_categorical(y_train)\n",
    "y_test = to_categorical(y_test)"
   ]
  },
  {
   "cell_type": "code",
   "execution_count": 10,
   "metadata": {},
   "outputs": [],
   "source": [
    "num_classes = y_test.shape[1]\n",
    "num_pixels = X_train[0].shape[0] * X_train[0].shape[1] * X_train[0].shape[2] # find size of one-dimensional vector"
   ]
  },
  {
   "cell_type": "code",
   "execution_count": 11,
   "metadata": {},
   "outputs": [
    {
     "data": {
      "text/plain": [
       "(5335, 256, 256, 3)"
      ]
     },
     "execution_count": 11,
     "metadata": {},
     "output_type": "execute_result"
    }
   ],
   "source": [
    "data.shape"
   ]
  },
  {
   "cell_type": "markdown",
   "metadata": {},
   "source": [
    "### 2. Training the model"
   ]
  },
  {
   "cell_type": "code",
   "execution_count": 12,
   "metadata": {},
   "outputs": [],
   "source": [
    "def convolutional_model():\n",
    "    model = Sequential()\n",
    "    model.add(Conv2D(64, (3, 3), padding='same', activation='relu', input_shape=(height, width,3)))\n",
    "    model.add(MaxPooling2D(pool_size=(2, 2)))\n",
    "    model.add(Dropout(0.25))\n",
    "\n",
    "    model.add(Conv2D(128, (3, 3), padding='same', activation='relu'))\n",
    "    model.add(MaxPooling2D(pool_size=(2, 2)))\n",
    "    model.add(Dropout(0.25))\n",
    "\n",
    "    model.add(Conv2D(256, (3, 3), padding='same', activation='relu'))\n",
    "    model.add(MaxPooling2D(pool_size=(2, 2)))\n",
    "    model.add(Dropout(0.25))\n",
    "\n",
    "    model.add(Conv2D(512, (3, 3), padding='same', activation='relu'))\n",
    "    model.add(MaxPooling2D(pool_size=(2, 2)))\n",
    "    model.add(Dropout(0.25))\n",
    "\n",
    "    model.add(Flatten())\n",
    "    model.add(Dense(512, activation='relu'))\n",
    "    model.add(Dropout(0.5))\n",
    "    model.add(Dense(2, activation='softmax'))\n",
    "\n",
    "    model.compile(optimizer='adam', loss='categorical_crossentropy',  metrics=['accuracy'])\n",
    "\n",
    "    return model"
   ]
  },
  {
   "cell_type": "code",
   "execution_count": 13,
   "metadata": {},
   "outputs": [],
   "source": [
    "# build the model\n",
    "model = convolutional_model()"
   ]
  },
  {
   "cell_type": "code",
   "execution_count": 14,
   "metadata": {},
   "outputs": [
    {
     "name": "stdout",
     "output_type": "stream",
     "text": [
      "Train on 4268 samples, validate on 1067 samples\n",
      "Epoch 1/25\n",
      "4268/4268 [==============================] - 2701s 633ms/step - loss: 2.1208 - accuracy: 0.5829 - val_loss: 0.6755 - val_accuracy: 0.5773\n",
      "\n",
      "Epoch 00001: val_loss improved from inf to 0.67550, saving model to Saved_models/weights.best.CNN.hdf5\n",
      "Epoch 2/25\n",
      "4268/4268 [==============================] - 2198s 515ms/step - loss: 0.6180 - accuracy: 0.5977 - val_loss: 0.5931 - val_accuracy: 0.6898\n",
      "\n",
      "Epoch 00002: val_loss improved from 0.67550 to 0.59314, saving model to Saved_models/weights.best.CNN.hdf5\n",
      "Epoch 3/25\n",
      "4268/4268 [==============================] - 2199s 515ms/step - loss: 0.5850 - accuracy: 0.6579 - val_loss: 0.5993 - val_accuracy: 0.7010\n",
      "\n",
      "Epoch 00003: val_loss did not improve from 0.59314\n",
      "Epoch 4/25\n",
      "4268/4268 [==============================] - 2451s 574ms/step - loss: 0.5609 - accuracy: 0.6558 - val_loss: 0.6605 - val_accuracy: 0.5961\n",
      "\n",
      "Epoch 00004: val_loss did not improve from 0.59314\n",
      "Epoch 5/25\n",
      "4268/4268 [==============================] - 2522s 591ms/step - loss: 0.5234 - accuracy: 0.6767 - val_loss: 0.5800 - val_accuracy: 0.6795\n",
      "\n",
      "Epoch 00005: val_loss improved from 0.59314 to 0.58004, saving model to Saved_models/weights.best.CNN.hdf5\n",
      "Epoch 6/25\n",
      "4268/4268 [==============================] - 2447s 573ms/step - loss: 0.4977 - accuracy: 0.7081 - val_loss: 0.6690 - val_accuracy: 0.4892\n",
      "\n",
      "Epoch 00006: val_loss did not improve from 0.58004\n",
      "Epoch 7/25\n",
      "4268/4268 [==============================] - 2464s 577ms/step - loss: 0.4847 - accuracy: 0.7156 - val_loss: 0.5498 - val_accuracy: 0.7395\n",
      "\n",
      "Epoch 00007: val_loss improved from 0.58004 to 0.54979, saving model to Saved_models/weights.best.CNN.hdf5\n",
      "Epoch 8/25\n",
      "4268/4268 [==============================] - 2462s 577ms/step - loss: 0.4733 - accuracy: 0.7420 - val_loss: 0.7306 - val_accuracy: 0.5052\n",
      "\n",
      "Epoch 00008: val_loss did not improve from 0.54979\n",
      "Epoch 9/25\n",
      "4268/4268 [==============================] - 2447s 573ms/step - loss: 0.4835 - accuracy: 0.7364 - val_loss: 0.5047 - val_accuracy: 0.7170\n",
      "\n",
      "Epoch 00009: val_loss improved from 0.54979 to 0.50469, saving model to Saved_models/weights.best.CNN.hdf5\n",
      "Epoch 10/25\n",
      "4268/4268 [==============================] - 2522s 591ms/step - loss: 0.4640 - accuracy: 0.7495 - val_loss: 0.4863 - val_accuracy: 0.7348\n",
      "\n",
      "Epoch 00010: val_loss improved from 0.50469 to 0.48634, saving model to Saved_models/weights.best.CNN.hdf5\n",
      "Epoch 11/25\n",
      "4268/4268 [==============================] - 2544s 596ms/step - loss: 0.4579 - accuracy: 0.7540 - val_loss: 0.5357 - val_accuracy: 0.7067\n",
      "\n",
      "Epoch 00011: val_loss did not improve from 0.48634\n",
      "Epoch 12/25\n",
      "4268/4268 [==============================] - 2593s 608ms/step - loss: 0.4492 - accuracy: 0.7540 - val_loss: 0.4428 - val_accuracy: 0.7657\n",
      "\n",
      "Epoch 00012: val_loss improved from 0.48634 to 0.44279, saving model to Saved_models/weights.best.CNN.hdf5\n",
      "Epoch 13/25\n",
      "4268/4268 [==============================] - 2664s 624ms/step - loss: 0.4504 - accuracy: 0.7575 - val_loss: 0.5351 - val_accuracy: 0.6917\n",
      "\n",
      "Epoch 00013: val_loss did not improve from 0.44279\n",
      "Epoch 14/25\n",
      "4268/4268 [==============================] - 2571s 602ms/step - loss: 0.4309 - accuracy: 0.7753 - val_loss: 0.4644 - val_accuracy: 0.7601\n",
      "\n",
      "Epoch 00014: val_loss did not improve from 0.44279\n",
      "Epoch 15/25\n",
      "4268/4268 [==============================] - 2606s 611ms/step - loss: 0.4507 - accuracy: 0.7619 - val_loss: 0.5326 - val_accuracy: 0.7226\n",
      "\n",
      "Epoch 00015: val_loss did not improve from 0.44279\n",
      "Epoch 16/25\n",
      "4268/4268 [==============================] - 2591s 607ms/step - loss: 0.4306 - accuracy: 0.7767 - val_loss: 0.4787 - val_accuracy: 0.7470\n",
      "\n",
      "Epoch 00016: val_loss did not improve from 0.44279\n",
      "Epoch 17/25\n",
      "4268/4268 [==============================] - 2590s 607ms/step - loss: 0.4131 - accuracy: 0.7861 - val_loss: 0.4435 - val_accuracy: 0.7676\n",
      "\n",
      "Epoch 00017: val_loss did not improve from 0.44279\n",
      "Epoch 18/25\n",
      "4268/4268 [==============================] - 2630s 616ms/step - loss: 0.4232 - accuracy: 0.7851 - val_loss: 0.4848 - val_accuracy: 0.7245\n",
      "\n",
      "Epoch 00018: val_loss did not improve from 0.44279\n",
      "Epoch 19/25\n",
      "4268/4268 [==============================] - 2602s 610ms/step - loss: 0.4085 - accuracy: 0.7826 - val_loss: 0.4711 - val_accuracy: 0.7507\n",
      "\n",
      "Epoch 00019: val_loss did not improve from 0.44279\n",
      "Epoch 20/25\n",
      "4268/4268 [==============================] - 2595s 608ms/step - loss: 0.4044 - accuracy: 0.7957 - val_loss: 0.4637 - val_accuracy: 0.7591\n",
      "\n",
      "Epoch 00020: val_loss did not improve from 0.44279\n",
      "Epoch 21/25\n",
      "4268/4268 [==============================] - 2591s 607ms/step - loss: 0.3975 - accuracy: 0.7964 - val_loss: 0.4272 - val_accuracy: 0.7807\n",
      "\n",
      "Epoch 00021: val_loss improved from 0.44279 to 0.42719, saving model to Saved_models/weights.best.CNN.hdf5\n",
      "Epoch 22/25\n",
      "4268/4268 [==============================] - 2607s 611ms/step - loss: 0.3911 - accuracy: 0.8041 - val_loss: 0.4496 - val_accuracy: 0.7769\n",
      "\n",
      "Epoch 00022: val_loss did not improve from 0.42719\n",
      "Epoch 23/25\n",
      "4268/4268 [==============================] - 2617s 613ms/step - loss: 0.3853 - accuracy: 0.8034 - val_loss: 0.4347 - val_accuracy: 0.7751\n",
      "\n",
      "Epoch 00023: val_loss did not improve from 0.42719\n",
      "Epoch 24/25\n",
      "4268/4268 [==============================] - 2657s 623ms/step - loss: 0.3840 - accuracy: 0.8025 - val_loss: 0.4551 - val_accuracy: 0.7732\n",
      "\n",
      "Epoch 00024: val_loss did not improve from 0.42719\n",
      "Epoch 25/25\n",
      "4268/4268 [==============================] - 2604s 610ms/step - loss: 0.3953 - accuracy: 0.7980 - val_loss: 0.4743 - val_accuracy: 0.7657\n",
      "\n",
      "Epoch 00025: val_loss did not improve from 0.42719\n",
      "Accuracy: 0.7656981945037842 \n",
      " Error: 23.430180549621582\n"
     ]
    }
   ],
   "source": [
    "checkpointer = ModelCheckpoint(filepath='Saved_models/weights.best.CNN.hdf5', \n",
    "                               verbose=1, \n",
    "                               save_best_only=True)\n",
    "# fit the model\n",
    "History_CNN = model.fit(X_train, y_train, \n",
    "              validation_data=(X_test, y_test), \n",
    "              epochs=epoch, \n",
    "              batch_size=200,\n",
    "              callbacks=[checkpointer],\n",
    "              verbose=1)\n",
    " \n",
    "# evaluate the model\n",
    "scores = model.evaluate(X_test, y_test, verbose=0)\n",
    "print(\"Accuracy: {} \\n Error: {}\".format(scores[1], 100-scores[1]*100))"
   ]
  },
  {
   "cell_type": "code",
   "execution_count": 15,
   "metadata": {},
   "outputs": [],
   "source": [
    "# Loading the weights\n",
    "model.load_weights(\"./Saved_models/weights.best.CNN.hdf5\")"
   ]
  },
  {
   "cell_type": "code",
   "execution_count": 16,
   "metadata": {},
   "outputs": [
    {
     "data": {
      "image/png": "[encoded data removed]",
      "text/plain": [
       "<Figure size 432x288 with 1 Axes>"
      ]
     },
     "metadata": {},
     "output_type": "display_data"
    }
   ],
   "source": [
    "N = np.arange(0, epoch)\n",
    "plt.style.use(\"ggplot\")\n",
    "plt.figure()\n",
    "plt.plot(N, History_CNN.history[\"loss\"], label=\"train_loss\")\n",
    "plt.plot(N, History_CNN.history[\"val_loss\"], label=\"val_loss\")\n",
    "plt.plot(N, History_CNN.history[\"accuracy\"], label=\"train_acc\")\n",
    "plt.plot(N, History_CNN.history[\"val_accuracy\"], label=\"val_acc\")\n",
    "plt.title(\"Training Loss and Accuracy (CNN)\")\n",
    "plt.xlabel(\"Epoch #\")\n",
    "plt.ylabel(\"Loss/Accuracy\")\n",
    "plt.legend()\n",
    "plt.show()"
   ]
  },
  {
   "cell_type": "markdown",
   "metadata": {},
   "source": [
    "## 3. Prediction"
   ]
  },
  {
   "cell_type": "code",
   "execution_count": 14,
   "metadata": {},
   "outputs": [],
   "source": [
    "# Let's upload test set the same way as it was done for training\n",
    "\n",
    "path_test = \"C:\\\\Users\\\\mreun\\\\Test\"\n",
    "imagePaths_test = sorted(list(paths.list_images(path_test)))"
   ]
  },
  {
   "cell_type": "code",
   "execution_count": 15,
   "metadata": {},
   "outputs": [],
   "source": [
    "data_test = []\n",
    "label_test = []\n",
    "predictions = []"
   ]
  },
  {
   "cell_type": "code",
   "execution_count": 16,
   "metadata": {},
   "outputs": [],
   "source": [
    "for imagePath in imagePaths_test:\n",
    "\n",
    "    image = cv2.imread(imagePath)\n",
    "    image = np.array(cv2.resize(image, (height, width)))\n",
    "    data_test.append(image)\n",
    "\n",
    "    label = imagePath.split(os.path.sep)[-2]\n",
    "    label_test.append(label)"
   ]
  },
  {
   "cell_type": "code",
   "execution_count": 17,
   "metadata": {},
   "outputs": [],
   "source": [
    "data_test = np.array(data_test, dtype=\"float\") / 255.0\n",
    "label_test = np.array(label_test)"
   ]
  },
  {
   "cell_type": "code",
   "execution_count": 18,
   "metadata": {},
   "outputs": [],
   "source": [
    "def predict(image, \n",
    "            model_architecture = model, \n",
    "            path_model_weight = \"./Saved_models/weights.best.CNN.hdf5\"):\n",
    "\n",
    "    # Getting the model's architecture\n",
    "    model = model_architecture\n",
    "    # Loading the weights from the file\n",
    "    model.load_weights(path_model_weight)\n",
    "    # Predicting\n",
    "    pred = model.predict(image)\n",
    "    for_df = [pred[0][0], pred[0][1]]\n",
    "    predictions.append(for_df)\n",
    "    if np.argmax(pred) == 0:\n",
    "        return [1., 0.]\n",
    "    elif np.argmax(pred) == 1:\n",
    "        return [0., 1.]"
   ]
  },
  {
   "cell_type": "code",
   "execution_count": 19,
   "metadata": {},
   "outputs": [],
   "source": [
    "y_test_pred = lb.transform(label_test)\n",
    "y_true = to_categorical(y_test_pred) \n",
    "\n",
    "number_test = len(data_test)"
   ]
  },
  {
   "cell_type": "markdown",
   "metadata": {},
   "source": [
    "## 4. Evaluating the model"
   ]
  },
  {
   "cell_type": "code",
   "execution_count": 20,
   "metadata": {},
   "outputs": [],
   "source": [
    "def compute_roc(y_true, y_score):\n",
    "    \n",
    "    # Computing ROC curve and area\n",
    "    \n",
    "    false_positive_rate, true_positive_rate, thresholds = roc_curve(y_true, y_score) \n",
    "    auroc = auc(false_positive_rate, true_positive_rate) \n",
    "    return false_positive_rate, true_positive_rate, auroc"
   ]
  },
  {
   "cell_type": "code",
   "execution_count": 21,
   "metadata": {},
   "outputs": [],
   "source": [
    "def plot_roc(y_true, y_score):\n",
    "\n",
    "    # Ploting ROC curve\n",
    " \n",
    "    false_positive_rate, true_positive_rate, auroc = compute_roc(y_true, y_score)\n",
    "    plt.figure(figsize=(10,6))\n",
    "    plt.grid()\n",
    "    plt.plot(false_positive_rate, \n",
    "             true_positive_rate, \n",
    "             color='darkorange',\n",
    "             lw=2, \n",
    "             label='ROC curve (area = {:.2f})'.format(auroc))\n",
    "    plt.plot([0, 1], [0, 1], color='navy', lw=2, linestyle='--')\n",
    "    plt.xlim([0.0, 1.0])\n",
    "    plt.ylim([0.0, 1.05])\n",
    "    plt.xlabel('False Positive Rate', fontsize=12)\n",
    "    plt.ylabel('True Positive Rate', fontsize=12)\n",
    "    plt.title('Receiver operating characteristic example', fontsize=15)\n",
    "    plt.legend(loc=\"lower right\", fontsize=14)\n",
    "    plt.show()\n",
    "    \n",
    "plt.style.use(\"seaborn-white\")"
   ]
  },
  {
   "cell_type": "code",
   "execution_count": 22,
   "metadata": {},
   "outputs": [],
   "source": [
    "weight_path = \"./Saved_models/weights.best.CNN.hdf5\""
   ]
  },
  {
   "cell_type": "code",
   "execution_count": 25,
   "metadata": {},
   "outputs": [],
   "source": [
    "y_score_CNN = []\n",
    "for index in range(number_test): \n",
    "    probs = predict(image = np.expand_dims(data_test[index], axis=0), model_architecture = model, \n",
    "            path_model_weight = weight_path)\n",
    "    y_score_CNN.append(probs)\n",
    "    \n",
    "correct = np.array(y_true) == np.array(y_score_CNN)"
   ]
  },
  {
   "cell_type": "code",
   "execution_count": 24,
   "metadata": {},
   "outputs": [],
   "source": [
    "df_correct = pd.DataFrame(y_score_CNN, columns = [\"Non-melanoma_real\",\"Melanoma_real\"])\n",
    "df_prediction_CNN = pd.DataFrame(predictions, columns = [\"Non-melanoma_prediction\",\"Melanoma_prediction\"])\n",
    "df_merged=pd.concat([df_correct, df_prediction_CNN],axis=1)"
   ]
  },
  {
   "cell_type": "code",
   "execution_count": 30,
   "metadata": {},
   "outputs": [
    {
     "data": {
      "text/html": [
       "<div>\n",
       "<style scoped>\n",
       "    .dataframe tbody tr th:only-of-type {\n",
       "        vertical-align: middle;\n",
       "    }\n",
       "\n",
       "    .dataframe tbody tr th {\n",
       "        vertical-align: top;\n",
       "    }\n",
       "\n",
       "    .dataframe thead th {\n",
       "        text-align: right;\n",
       "    }\n",
       "</style>\n",
       "<table border=\"1\" class=\"dataframe\">\n",
       "  <thead>\n",
       "    <tr style=\"text-align: right;\">\n",
       "      <th></th>\n",
       "      <th>Non-melanoma_real</th>\n",
       "      <th>Melanoma_real</th>\n",
       "      <th>Non-melanoma_prediction</th>\n",
       "      <th>Melanoma_prediction</th>\n",
       "    </tr>\n",
       "  </thead>\n",
       "  <tbody>\n",
       "    <tr>\n",
       "      <th>0</th>\n",
       "      <td>1.0</td>\n",
       "      <td>0.0</td>\n",
       "      <td>0.998582</td>\n",
       "      <td>0.001418</td>\n",
       "    </tr>\n",
       "    <tr>\n",
       "      <th>1</th>\n",
       "      <td>1.0</td>\n",
       "      <td>0.0</td>\n",
       "      <td>0.998117</td>\n",
       "      <td>0.001883</td>\n",
       "    </tr>\n",
       "    <tr>\n",
       "      <th>2</th>\n",
       "      <td>0.0</td>\n",
       "      <td>1.0</td>\n",
       "      <td>0.410152</td>\n",
       "      <td>0.589848</td>\n",
       "    </tr>\n",
       "    <tr>\n",
       "      <th>3</th>\n",
       "      <td>1.0</td>\n",
       "      <td>0.0</td>\n",
       "      <td>0.997784</td>\n",
       "      <td>0.002216</td>\n",
       "    </tr>\n",
       "    <tr>\n",
       "      <th>4</th>\n",
       "      <td>1.0</td>\n",
       "      <td>0.0</td>\n",
       "      <td>0.993594</td>\n",
       "      <td>0.006406</td>\n",
       "    </tr>\n",
       "    <tr>\n",
       "      <th>5</th>\n",
       "      <td>1.0</td>\n",
       "      <td>0.0</td>\n",
       "      <td>0.967126</td>\n",
       "      <td>0.032874</td>\n",
       "    </tr>\n",
       "    <tr>\n",
       "      <th>6</th>\n",
       "      <td>1.0</td>\n",
       "      <td>0.0</td>\n",
       "      <td>0.988424</td>\n",
       "      <td>0.011576</td>\n",
       "    </tr>\n",
       "    <tr>\n",
       "      <th>7</th>\n",
       "      <td>1.0</td>\n",
       "      <td>0.0</td>\n",
       "      <td>0.736157</td>\n",
       "      <td>0.263844</td>\n",
       "    </tr>\n",
       "    <tr>\n",
       "      <th>8</th>\n",
       "      <td>1.0</td>\n",
       "      <td>0.0</td>\n",
       "      <td>0.997416</td>\n",
       "      <td>0.002584</td>\n",
       "    </tr>\n",
       "    <tr>\n",
       "      <th>9</th>\n",
       "      <td>1.0</td>\n",
       "      <td>0.0</td>\n",
       "      <td>0.644139</td>\n",
       "      <td>0.355861</td>\n",
       "    </tr>\n",
       "  </tbody>\n",
       "</table>\n",
       "</div>"
      ],
      "text/plain": [
       "   Non-melanoma_real  Melanoma_real  Non-melanoma_prediction  \\\n",
       "0                1.0            0.0                 0.998582   \n",
       "1                1.0            0.0                 0.998117   \n",
       "2                0.0            1.0                 0.410152   \n",
       "3                1.0            0.0                 0.997784   \n",
       "4                1.0            0.0                 0.993594   \n",
       "5                1.0            0.0                 0.967126   \n",
       "6                1.0            0.0                 0.988424   \n",
       "7                1.0            0.0                 0.736157   \n",
       "8                1.0            0.0                 0.997416   \n",
       "9                1.0            0.0                 0.644139   \n",
       "\n",
       "   Melanoma_prediction  \n",
       "0             0.001418  \n",
       "1             0.001883  \n",
       "2             0.589848  \n",
       "3             0.002216  \n",
       "4             0.006406  \n",
       "5             0.032874  \n",
       "6             0.011576  \n",
       "7             0.263844  \n",
       "8             0.002584  \n",
       "9             0.355861  "
      ]
     },
     "execution_count": 30,
     "metadata": {},
     "output_type": "execute_result"
    }
   ],
   "source": [
    "df_merged.head(10)"
   ]
  },
  {
   "cell_type": "code",
   "execution_count": 31,
   "metadata": {},
   "outputs": [
    {
     "name": "stdout",
     "output_type": "stream",
     "text": [
      "Accuracy = 73.00%\n"
     ]
    }
   ],
   "source": [
    "print(\"Accuracy = %2.2f%%\" % (np.mean(correct)*100))"
   ]
  },
  {
   "cell_type": "code",
   "execution_count": 26,
   "metadata": {},
   "outputs": [
    {
     "data": {
      "image/png": "[encoded data removed]",
      "text/plain": [
       "<Figure size 720x432 with 1 Axes>"
      ]
     },
     "metadata": {},
     "output_type": "display_data"
    }
   ],
   "source": [
    "# Re-ordering the actual y (for ROC)\n",
    "y_true_2 = []\n",
    "for i in range(len(y_true)):\n",
    "    y_true_2.append(y_true[i][0])\n",
    "    \n",
    "y_score_2 = []\n",
    "for i in range(len(y_score_CNN)):\n",
    "    y_score_2.append(y_score_CNN[i][0])\n",
    "\n",
    "plot_roc(y_true_2, y_score_2)"
   ]
  },
  {
   "cell_type": "code",
   "execution_count": 27,
   "metadata": {},
   "outputs": [],
   "source": [
    "def positive_negative_measurement(y_true, y_score_CNN):\n",
    "    # Initialization\n",
    "    TRUE_POSITIVE = 0\n",
    "    FALSE_POSITIVE = 0\n",
    "    TRUE_NEGATIVE = 0\n",
    "    FALSE_NEGATIVE = 0\n",
    "    \n",
    "    # Calculating the model\n",
    "    for i in range(len(y_score_CNN)):\n",
    "        if y_true[i] == y_score_CNN[i] == 1:\n",
    "            TRUE_POSITIVE += 1\n",
    "        if (y_score_CNN[i] == 1) and (y_true[i] != y_score_CNN[i]):\n",
    "            FALSE_POSITIVE += 1\n",
    "        if y_true[i] == y_score_CNN[i] == 0:\n",
    "            TRUE_NEGATIVE += 1\n",
    "        if (y_score_CNN[i] == 0) and (y_true[i] != y_score_CNN[i]):\n",
    "            FALSE_NEGATIVE += 1\n",
    "\n",
    "    return(TRUE_POSITIVE, FALSE_POSITIVE, TRUE_NEGATIVE, FALSE_NEGATIVE)"
   ]
  },
  {
   "cell_type": "code",
   "execution_count": 33,
   "metadata": {},
   "outputs": [
    {
     "data": {
      "text/plain": [
       "83"
      ]
     },
     "execution_count": 33,
     "metadata": {},
     "output_type": "execute_result"
    }
   ],
   "source": [
    "TRUE_POSITIVE"
   ]
  },
  {
   "cell_type": "code",
   "execution_count": 34,
   "metadata": {},
   "outputs": [
    {
     "data": {
      "text/plain": [
       "37"
      ]
     },
     "execution_count": 34,
     "metadata": {},
     "output_type": "execute_result"
    }
   ],
   "source": [
    "FALSE_POSITIVE"
   ]
  },
  {
   "cell_type": "code",
   "execution_count": 35,
   "metadata": {},
   "outputs": [
    {
     "data": {
      "text/plain": [
       "63"
      ]
     },
     "execution_count": 35,
     "metadata": {},
     "output_type": "execute_result"
    }
   ],
   "source": [
    "TRUE_NEGATIVE"
   ]
  },
  {
   "cell_type": "code",
   "execution_count": 36,
   "metadata": {},
   "outputs": [
    {
     "data": {
      "text/plain": [
       "17"
      ]
     },
     "execution_count": 36,
     "metadata": {},
     "output_type": "execute_result"
    }
   ],
   "source": [
    "FALSE_NEGATIVE"
   ]
  },
  {
   "cell_type": "code",
   "execution_count": 28,
   "metadata": {},
   "outputs": [],
   "source": [
    "TRUE_POSITIVE, FALSE_POSITIVE, TRUE_NEGATIVE, FALSE_NEGATIVE = positive_negative_measurement(y_true_2, y_score_2)\n",
    "postives_negatives = [[TRUE_POSITIVE, FALSE_POSITIVE], \n",
    "                      [FALSE_NEGATIVE, TRUE_NEGATIVE]]"
   ]
  },
  {
   "cell_type": "code",
   "execution_count": 37,
   "metadata": {},
   "outputs": [
    {
     "data": {
      "text/plain": [
       "<matplotlib.axes._subplots.AxesSubplot at 0x1e4a1ba1d48>"
      ]
     },
     "execution_count": 37,
     "metadata": {},
     "output_type": "execute_result"
    },
    {
     "data": {
      "image/png": "[encoded data removed]",
      "text/plain": [
       "<Figure size 936x720 with 2 Axes>"
      ]
     },
     "metadata": {},
     "output_type": "display_data"
    }
   ],
   "source": [
    "import seaborn as sns\n",
    "sns.set()\n",
    "labels =  np.array([['True positive: ' + str(TRUE_POSITIVE),\n",
    "                     'False positive: ' + str(FALSE_POSITIVE)],\n",
    "                    ['False negative: ' + str(FALSE_NEGATIVE),\n",
    "                     'True negative: ' + str(TRUE_NEGATIVE)]])\n",
    "plt.figure(figsize = (13, 10))\n",
    "sns.heatmap(postives_negatives, annot = labels, linewidths = 0.1, fmt=\"\", cmap = 'RdYlGn', annot_kws={\"size\":32})"
   ]
  },
  {
   "cell_type": "code",
   "execution_count": 36,
   "metadata": {},
   "outputs": [],
   "source": [
    "sensitivity = TRUE_POSITIVE / (TRUE_POSITIVE + FALSE_NEGATIVE)\n",
    "specifity = TRUE_NEGATIVE / (TRUE_NEGATIVE + FALSE_NEGATIVE)\n",
    "precision = TRUE_POSITIVE / (TRUE_POSITIVE + FALSE_POSITIVE)\n",
    "accuracy = (TRUE_POSITIVE + TRUE_NEGATIVE) / (TRUE_POSITIVE + FALSE_POSITIVE + TRUE_NEGATIVE + FALSE_NEGATIVE)\n",
    "name = \"CNN\"\n",
    "scores_CNN = [name, sensitivity, specifity, precision, accuracy]"
   ]
  },
  {
   "cell_type": "code",
   "execution_count": 37,
   "metadata": {},
   "outputs": [
    {
     "data": {
      "text/html": [
       "<div>\n",
       "<style scoped>\n",
       "    .dataframe tbody tr th:only-of-type {\n",
       "        vertical-align: middle;\n",
       "    }\n",
       "\n",
       "    .dataframe tbody tr th {\n",
       "        vertical-align: top;\n",
       "    }\n",
       "\n",
       "    .dataframe thead th {\n",
       "        text-align: right;\n",
       "    }\n",
       "</style>\n",
       "<table border=\"1\" class=\"dataframe\">\n",
       "  <thead>\n",
       "    <tr style=\"text-align: right;\">\n",
       "      <th></th>\n",
       "      <th>Model</th>\n",
       "      <th>Sensitivity</th>\n",
       "      <th>Specifity</th>\n",
       "      <th>Precision</th>\n",
       "      <th>Accuracy</th>\n",
       "    </tr>\n",
       "  </thead>\n",
       "  <tbody>\n",
       "    <tr>\n",
       "      <th>0</th>\n",
       "      <td>CNN</td>\n",
       "      <td>0.83</td>\n",
       "      <td>0.7875</td>\n",
       "      <td>0.691667</td>\n",
       "      <td>0.73</td>\n",
       "    </tr>\n",
       "  </tbody>\n",
       "</table>\n",
       "</div>"
      ],
      "text/plain": [
       "  Model  Sensitivity  Specifity  Precision  Accuracy\n",
       "0   CNN         0.83     0.7875   0.691667      0.73"
      ]
     },
     "execution_count": 37,
     "metadata": {},
     "output_type": "execute_result"
    }
   ],
   "source": [
    "df_scores_CNN = pd.DataFrame([scores_CNN], columns = [\"Model\",  \"Sensitivity\",  \"Specifity\",  \"Precision\", \"Accuracy\"])\n",
    "df_scores_CNN"
   ]
  },
  {
   "cell_type": "code",
   "execution_count": null,
   "metadata": {},
   "outputs": [],
   "source": [
    "scores_CNN = [\"CNN\", 0.83, 0.7875, 0.691667, 0.73]"
   ]
  }
 ],
 "metadata": {
  "kernelspec": {
   "display_name": "Python 3",
   "language": "python",
   "name": "python3"
  },
  "language_info": {
   "codemirror_mode": {
    "name": "ipython",
    "version": 3
   },
   "file_extension": ".py",
   "mimetype": "text/x-python",
   "name": "python",
   "nbconvert_exporter": "python",
   "pygments_lexer": "ipython3",
   "version": "3.7.6"
  }
 },
 "nbformat": 4,
 "nbformat_minor": 4
}
